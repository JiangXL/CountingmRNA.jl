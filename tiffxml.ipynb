{
 "cells": [
  {
   "cell_type": "code",
   "execution_count": 1,
   "metadata": {
    "Collapsed": "false"
   },
   "outputs": [],
   "source": [
    "using LightXML"
   ]
  },
  {
   "cell_type": "code",
   "execution_count": 102,
   "metadata": {
    "Collapsed": "false"
   },
   "outputs": [
    {
     "data": {
      "text/plain": [
       "embedxml"
      ]
     },
     "execution_count": 102,
     "metadata": {},
     "output_type": "execute_result"
    }
   ],
   "source": [
    "\"\"\"\n",
    "Create and return XML string with xyzt\n",
    "\"\"\"\n",
    "function generatexml(SizeX::Integer, SizeY::Integer, SizeZ::Integer, SizeT::Integer)\n",
    "    tiffXML = XMLDocument();\n",
    "    OME = create_root(tiffXML, \"OME\");\n",
    "    xmlns=\"http://www.openmicroscopy.org/Schemas/OME/2016-06\" \n",
    "    xmlns_xsi=\"http://www.w3.org/2001/XMLSchema-instance\"\n",
    "    Creator=\"OME Bio-Formats 5.2.2\" \n",
    "    UUID=\"urn:uuid:a5ae8c1b-ac04-4544-97c1-bbdd0bdf8629\" # use fixed value now\n",
    "    xsi_schemaLocation=\"http://www.openmicroscopy.org/Schemas/OME/2016-06 http://www.openmicroscopy.org/Schemas/OME/2016-06/ome.xsd\"\n",
    "    OME_attributes = Dict(\"xmlns\"=>xmlns, \"xmlns:xsi\"=>xmlns_xsi, \"Creator\"=>Creator, \"UUID\"=>UUID, \"xsi:schemaLocation\"=>xsi_schemaLocation)\n",
    "    set_attributes(OME, OME_attributes)\n",
    "    \n",
    "    name = \"test.tiff\"\n",
    "    Image= new_child(OME, \"Image\")\n",
    "    set_attributes(Image, Dict(\"ID\"=>\"Image:0\", \"Name\"=>name))\n",
    "    \n",
    "    Pixels = new_child(Image, \"Pixels\");\n",
    "    #SizeC=1; SizeT=10;  SizeX=1300; SizeY=1900; SizeZ=2;\n",
    "    PhysicalSizeX=PhysicalSizeY=0.108; PhysicalSizeZ=0.5;\n",
    "    TimeIncrement=600;\n",
    "    Pixels_attributes = Dict(\"ID\"=>\"Pixels:0\",\"Type\"=>\"uint16\", \"BigEndian\"=>\"false\",\n",
    "    \"DimensionOrder\"=>\"XYZCT\", \"SizeC\"=>SizeC,\"SizeX\"=>SizeX, \"SizeY\"=>SizeY, \"SizeZ\"=>SizeZ, \"SizeT\"=>SizeT,\n",
    "    \"PhysicalSizeX\"=>PhysicalSizeX, \"PhysicalSizeY\"=>PhysicalSizeY, \"PhysicalSizeZ\"=>PhysicalSizeZ,\n",
    "    \"PhysicalSizeXUnit\"=>\"µm\", \"PhysicalSizeYUnit\"=>\"µm\", \"PhysicalSizeZUnit\"=>\"µm\",\n",
    "    \"TimeIncrement\"=>TimeIncrement, \"TimeIncrementUnit\"=>\"s\");\n",
    "    set_attributes(Pixels, Pixels_attributes)\n",
    "    \n",
    "    Channel_ = new_child(Pixels, \"Channel\");\n",
    "    set_attributes(Channel_, Dict(\"ID\"=>\"Channel:0:0\", \"SamplesPerPixel\"=>\"1\"));\n",
    "    LightPath =new_child(Channel_, \"LightPath\");\n",
    "    \n",
    "    for i in 1:SizeC*SizeZ*SizeT\n",
    "        new_child(Pixels, \"TiffData\")\n",
    "    end\n",
    "    \n",
    "    tiffXML;\n",
    "end\n",
    "\n",
    "\"\"\"\n",
    "Embed OME-XML to tiff with XYZT informance\n",
    "\"\"\"\n",
    "function embedxml(SizeX::Integer, SizeY::Integer, SizeZ::Integer, SizeT::Integer, img_name::String)\n",
    "    tiffxml = generatexml(SizeX, SizeY, SizeZ, SizeT);\n",
    "    print(\"Embedding OME-XML\")\n",
    "    run(`/home/hf/Bin/bftools/tiffcomment -set $tiffxml $img_name`);\n",
    "    nothing;\n",
    "end"
   ]
  },
  {
   "cell_type": "code",
   "execution_count": 95,
   "metadata": {
    "Collapsed": "false"
   },
   "outputs": [
    {
     "data": {
      "text/plain": [
       "(700, 700, 2700)"
      ]
     },
     "execution_count": 95,
     "metadata": {},
     "output_type": "execute_result"
    }
   ],
   "source": [
    "img_size = size(img)"
   ]
  },
  {
   "cell_type": "code",
   "execution_count": 99,
   "metadata": {
    "Collapsed": "false"
   },
   "outputs": [],
   "source": [
    "tiffxml = generatexml(img_size[1], img_size[2], 20, img_size[3]÷20);\n",
    "run(`/home/hf/Bin/bftools/tiffcomment -set $tiffxml path1-1-z.tif`);"
   ]
  },
  {
   "cell_type": "code",
   "execution_count": 97,
   "metadata": {
    "Collapsed": "false"
   },
   "outputs": [
    {
     "name": "stdout",
     "output_type": "stream",
     "text": [
      "<?xml version=\"1.0\" encoding=\"utf-8\"?>\n",
      "<OME xsi:schemaLocation=\"http://www.openmicroscopy.org/Schemas/OME/2016-06 http://www.openmicroscopy.org/Schemas/OME/2016-06/ome.xsd\" UUID=\"urn:uuid:a5ae8c1b-ac04-4544-97c1-bbdd0bdf8629\" Creator=\"OME Bio-Formats 5.2.2\" xmlns=\"http://www.openmicroscopy.org/Schemas/OME/2016-06\" xmlns:xsi=\"http://www.w3.org/2001/XMLSchema-instance\">\n",
      "  <Image Name=\"test.tiff\" ID=\"Image:0\">\n",
      "    <Pixels PhysicalSizeXUnit=\"µm\" PhysicalSizeYUnit=\"µm\" SizeC=\"1\" DimensionOrder=\"XYZCT\" SizeZ=\"2\" BigEndian=\"false\" PhysicalSizeX=\"0.108\" SizeT=\"10\" ID=\"Pixels:0\" TimeIncrementUnit=\"s\" TimeIncrement=\"600\" PhysicalSizeZUnit=\"µm\" SizeX=\"1300\" PhysicalSizeZ=\"0.5\" Type=\"uint16\" SizeY=\"1900\" PhysicalSizeY=\"0.108\">\n",
      "      <Channel SamplesPerPixel=\"1\" ID=\"Channel:0:0\">\n",
      "        <LightPath/>\n",
      "      </Channel>\n",
      "      <TiffData/>\n",
      "      <TiffData/>\n",
      "      <TiffData/>\n",
      "      <TiffData/>\n",
      "      <TiffData/>\n",
      "      <TiffData/>\n",
      "      <TiffData/>\n",
      "      <TiffData/>\n",
      "      <TiffData/>\n",
      "      <TiffData/>\n",
      "      <TiffData/>\n",
      "      <TiffData/>\n",
      "      <TiffData/>\n",
      "      <TiffData/>\n",
      "      <TiffData/>\n",
      "      <TiffData/>\n",
      "      <TiffData/>\n",
      "      <TiffData/>\n",
      "      <TiffData/>\n",
      "      <TiffData/>\n",
      "    </Pixels>\n",
      "  </Image>\n",
      "</OME>\n"
     ]
    }
   ],
   "source": [
    "print(tiffxml)"
   ]
  }
 ],
 "metadata": {
  "kernelspec": {
   "display_name": "Julia 1.4.0",
   "language": "julia",
   "name": "julia-1.4"
  },
  "language_info": {
   "file_extension": ".jl",
   "mimetype": "application/julia",
   "name": "julia",
   "version": "1.4.0"
  }
 },
 "nbformat": 4,
 "nbformat_minor": 4
}
