{
 "cells": [
  {
   "cell_type": "markdown",
   "metadata": {
    "Collapsed": "false"
   },
   "source": [
    "# Counte mRNA inside Tracking Cells"
   ]
  },
  {
   "cell_type": "code",
   "execution_count": 2,
   "metadata": {
    "Collapsed": "false",
    "collapsed": true,
    "jupyter": {
     "outputs_hidden": true
    }
   },
   "outputs": [
    {
     "name": "stderr",
     "output_type": "stream",
     "text": [
      "┌ Info: Precompiling Images [916415d5-f1e6-5110-898d-aaa5f9f070e0]\n",
      "└ @ Base loading.jl:1260\n",
      "WARNING: ImageQualityIndexes.psnr is deprecated, use assess_psnr instead.\n",
      "  likely near /home/hf/.julia/packages/Images/0SDGT/src/Images.jl:60\n",
      "┌ Info: Precompiling ImageSegmentation [80713f31-8817-5129-9cf8-209ff8fb23e1]\n",
      "└ @ Base loading.jl:1260\n",
      "┌ Info: Precompiling Plots [91a5bcdd-55d7-5caf-9e0b-520d859cae80]\n",
      "└ @ Base loading.jl:1260\n",
      "┌ Info: Precompiling Distributions [31c24e10-a181-5473-b8eb-7969acd0382f]\n",
      "└ @ Base loading.jl:1260\n",
      "┌ Info: Precompiling GaussianMixtures [cc18c42c-b769-54ff-9e2a-b28141a64aae]\n",
      "└ @ Base loading.jl:1260\n"
     ]
    }
   ],
   "source": [
    "using FileIO, Images\n",
    "using ImageSegmentation\n",
    "using Plots\n",
    "using Random\n",
    "using Distributions\n",
    "using GaussianMixtures\n",
    "using Statistics"
   ]
  },
  {
   "cell_type": "code",
   "execution_count": 3,
   "metadata": {
    "Collapsed": "false"
   },
   "outputs": [
    {
     "data": {
      "text/plain": [
       "get_random_color (generic function with 1 method)"
      ]
     },
     "execution_count": 3,
     "metadata": {},
     "output_type": "execute_result"
    }
   ],
   "source": [
    "function get_random_color(seed)\n",
    "    Random.seed!(seed)\n",
    "    rand(RGB{N0f8})\n",
    "end"
   ]
  },
  {
   "cell_type": "code",
   "execution_count": 4,
   "metadata": {
    "Collapsed": "false"
   },
   "outputs": [
    {
     "data": {
      "text/plain": [
       "watershedborder (generic function with 1 method)"
      ]
     },
     "execution_count": 4,
     "metadata": {},
     "output_type": "execute_result"
    }
   ],
   "source": [
    "\"\"\"\n",
    "Generate border form watershed result\n",
    "\"\"\"\n",
    "#function watershedborder(watershed_segments::SegmentedImage{Array{Int64,2},Float64} )\n",
    "function watershedborder(watershed_segments)\n",
    "    marker_border = BitArray(undef, size(watershed_segments.image_indexmap));\n",
    "    marker_border .=false\n",
    "    #marker_border = zeros(Int8, size(watershed_segments.image_indexmap));\n",
    "    for label in watershed_segments.segment_labels\n",
    "        marker_border .|= ((watershed_segments.image_indexmap.==label) .⊻ erode(watershed_segments.image_indexmap .==label));\n",
    "    end\n",
    "    marker_border;\n",
    "end"
   ]
  },
  {
   "cell_type": "code",
   "execution_count": 5,
   "metadata": {
    "Collapsed": "false"
   },
   "outputs": [],
   "source": [
    "data_dir = \"/datahub/rawdata/tandeng/mRNA_imaging/mRNA_confocal_hamamatsu-60X-TIRF\";\n",
    "img_15_1 = load(File(format\"TIFF\", \"$data_dir/20200315/HE7-11-1-80uw-const_1_s1.ome.btf.tiff\"));"
   ]
  },
  {
   "cell_type": "code",
   "execution_count": 7,
   "metadata": {
    "Collapsed": "false"
   },
   "outputs": [],
   "source": [
    "img_16_2 = load(File(format\"TIFF\", \"$data_dir/20200316/HE7-11-1-80uw-PWM_1_s2.ome.tiff\"));"
   ]
  },
  {
   "cell_type": "markdown",
   "metadata": {
    "Collapsed": "false"
   },
   "source": [
    "# 3. LoG, Distance Map"
   ]
  },
  {
   "cell_type": "code",
   "execution_count": 112,
   "metadata": {
    "Collapsed": "false"
   },
   "outputs": [
    {
     "data": {
      "text/plain": [
       "split_cell_LoG"
      ]
     },
     "execution_count": 112,
     "metadata": {},
     "output_type": "execute_result"
    }
   ],
   "source": [
    "\"\"\"\n",
    "Use LoG without Distance Map fiter raw image to extract cell\n",
    "\"\"\"\n",
    "function split_cell_LoG(stack::Array{Gray{Normed{UInt16,16}},3}, time::Int)\n",
    "    img_edge = zeros(N0f16, 1900, 1300, time);\n",
    "    img_clear = zeros(N0f16, 1900, 1300, time);\n",
    "    for i in 1:time\n",
    "        imgx = mapwindow(median!, stack[:, :, 20*i+14], (5,5));\n",
    "        imgx_log = imfilter(imgx, Kernel.LoG(40)) .< -1e-7 ;\n",
    "        imgx_dist = distance_transform(feature_transform(imgx_log)) .^ 0.5;\n",
    "        imgx_markers = label_components( imgx_dist .< 5);\n",
    "        #imgx_segments = watershed( imgx_dist, imgx_markers);  \n",
    "        imgx_segments = watershed( imfilter(1 .- imgx, Kernel.gaussian(9)), imgx_markers);\n",
    "        #imgout[:,:,i] = Gray.(imgx_segments.image_indexmap./maximum(imgx_segments.segment_labels));\n",
    "        img_edge[:,:,i] = .~watershedborder(imgx_segments).*imgx;\n",
    "        img_clear[:,:,i] = extract_nucleus( imgx, imgx_segments);\n",
    "    end\n",
    "\t#map(i->get_random_color(i),labels_map(imgx_segments))]\n",
    "    img_edge, img_clear;\n",
    "end"
   ]
  },
  {
   "cell_type": "code",
   "execution_count": 151,
   "metadata": {
    "Collapsed": "false"
   },
   "outputs": [
    {
     "data": {
      "text/plain": [
       "extract_nucleus"
      ]
     },
     "execution_count": 151,
     "metadata": {},
     "output_type": "execute_result"
    }
   ],
   "source": [
    "\"\"\"\n",
    "Extract nucleus from sperated cell\n",
    "\"\"\"\n",
    "function extract_nucleus( img, watershed_segments::SegmentedImage{Array{Int64,2},Float64} )\n",
    "    img_clear = zeros(N0f16, size(watershed_segments.image_indexmap));\n",
    "    img_blur = imfilter(img, Kernel.gaussian(9));\n",
    "    for label in watershed_segments.segment_labels\n",
    "        cell = img_blur .* (watershed_segments.image_indexmap .== label);\n",
    "        # only select 70% brigter region or fixed area\n",
    "        gmm = GMM(3, [pixel for pixel in real(cell) if pixel > 1e-5]);\n",
    "        nucleus_th = sort(gmm.μ, dims=1)[end-1];\n",
    "        img_clear .+= ( remove_small_area(cell .> nucleus_th)) .*img;\n",
    "    end\n",
    "    img_clear;\n",
    "end\n",
    "\n",
    "\"\"\"\n",
    "Just remove regions are small\n",
    "\"\"\"\n",
    "function remove_small_area(mask)\n",
    "    mask_con = label_components(mask);\n",
    "    mask_res = BitArray(undef, size(mask));\n",
    "    mask_res .= false;cd\n",
    "    for i in 1:maximum(mask_con)\n",
    "        if sum(mask_con .== i) > 5e3\n",
    "            mask_res .+= (mask_con.==i);\n",
    "        end\n",
    "    end\n",
    "    mask_res;\n",
    "end"
   ]
  },
  {
   "cell_type": "code",
   "execution_count": 298,
   "metadata": {
    "Collapsed": "false"
   },
   "outputs": [
    {
     "data": {
      "text/plain": [
       "split_cell_LoG"
      ]
     },
     "execution_count": 298,
     "metadata": {},
     "output_type": "execute_result"
    }
   ],
   "source": [
    "\"\"\"\n",
    "Use LoG without Distance Map fiter raw image to extract cell\n",
    "\"\"\"\n",
    "function split_cell_LoG(stack::Array{Gray{Normed{UInt16,16}},3}, time::Int)\n",
    "    img_edge = zeros(N0f16, 1900, 1300, time);\n",
    "    img_clear = zeros(N0f16, 1900, 1300, time*20);\n",
    "    for i in 1:time\n",
    "        imgx = mapwindow(median!, stack[:, :, 20*i+14], (5,5));\n",
    "        imgx_log = imfilter(imgx, Kernel.LoG(40)) .< -1e-7 ;\n",
    "        imgx_dist = distance_transform(feature_transform(imgx_log)) .^ 0.5;\n",
    "        imgx_markers = label_components( imgx_dist .< 5);\n",
    "        #imgx_segments = watershed( imgx_dist, imgx_markers);  \n",
    "        imgx_segments = watershed( imfilter(1 .- imgx, Kernel.gaussian(9)), imgx_markers);\n",
    "        #imgout[:,:,i] = Gray.(imgx_segments.image_indexmap./maximum(imgx_segments.segment_labels));\n",
    "        img_edge[:,:,i] = .~watershedborder(imgx_segments).*imgx;\n",
    "        img_clear_mask = extract_nucleus( imgx, imgx_segments) .> 0;\n",
    "        for z in 1:20\n",
    "            img_clear[:,:,(i-1)*20+z] = img_clear_mask .* stack[:,:,(i-1)*20+z]\n",
    "        end\n",
    "    end\n",
    "\t#map(i->get_random_color(i),labels_map(imgx_segments))]\n",
    "    img_edge, img_clear;\n",
    "end"
   ]
  },
  {
   "cell_type": "code",
   "execution_count": 192,
   "metadata": {
    "Collapsed": "false"
   },
   "outputs": [],
   "source": [
    "using HDF5"
   ]
  },
  {
   "cell_type": "code",
   "execution_count": 221,
   "metadata": {
    "Collapsed": "false"
   },
   "outputs": [
    {
     "name": "stdout",
     "output_type": "stream",
     "text": [
      " 28.994724 seconds (18 allocations: 11.502 GiB, 0.09% gc time)\n"
     ]
    }
   ],
   "source": [
    "@time h5write(\"h5testall.h5\", \"img\", rawview(real(reshape(img_15_1, 1900, 1300, 20, :))));\n",
    "#h5writeattr(\"bar.h5\", \"foo\", Dict(\"c\"=>\"value for metadata parameter c\",\"d\"=>\"metadata d\"))"
   ]
  },
  {
   "cell_type": "code",
   "execution_count": 301,
   "metadata": {
    "Collapsed": "false"
   },
   "outputs": [
    {
     "data": {
      "text/plain": [
       "split_cell_LoG"
      ]
     },
     "execution_count": 301,
     "metadata": {},
     "output_type": "execute_result"
    }
   ],
   "source": [
    "\"\"\"\n",
    "Use LoG without Distance Map fiter raw image to extract cell, (vesion 3)\n",
    "Export statistic data and find long-live cell\n",
    "\"\"\"\n",
    "function split_cell_LoG(stack::Array{Gray{Normed{UInt16,16}},3}, time::Int)\n",
    "    img_edge = zeros(N0f16, 1900, 1300, time);\n",
    "    img_clear = zeros(N0f16, 1900, 1300, time*20);\n",
    "    mask_edge = zeros(Int16, 1900, 1300, time);\n",
    "    mask_clear = zeros(Bool, 1900, 1300, time);\n",
    "    \n",
    "    for i in 1:time\n",
    "        imgx = mapwindow(median!, stack[:, :, 20*i+14], (5,5));\n",
    "        #imgx_log = imfilter(imgx.*(imgx.>(120/0xffff)), Kernel.LoG(40)) .< -1e-7 ;\n",
    "        imgx_log = imfilter(imgx, Kernel.LoG(40)) .< -1e-7 ;\n",
    "        imgx_dist = distance_transform(feature_transform(imgx_log)) .^ 0.5; #取阈值后再做？\n",
    "        imgx_markers = label_components( imgx_dist .< 5); \n",
    "        #imgx_segments = watershed( imgx_dist, imgx_markers);  \n",
    "        imgx_segments = watershed( imfilter(1 .- imgx, Kernel.gaussian(9)), imgx_markers); # 取阈值后再做？\n",
    "        #imgout[:,:,i] = Gray.(imgx_segments.image_indexmap./maximum(imgx_segments.segment_labels));\n",
    "        mask_edge[:,:,i] = imgx_segments.image_indexmap;\n",
    "        img_edge[:,:,i] = .~watershedborder(imgx_segments).*imgx;\n",
    "        img_clear_mask = extract_nucleus( imgx, imgx_segments) .> 0;\n",
    "        mask_clear[:,:,i] = img_clear_mask;\n",
    "        for z in 1:20\n",
    "            img_clear[:,:,(i-1)*20+z] = img_clear_mask .* stack[:,:,(i-1)*20+z]\n",
    "        end\n",
    "    end\n",
    "\t#map(i->get_random_color(i),labels_map(imgx_segments))]\n",
    "    img_edge, img_clear, mask_edge, mask_clear;\n",
    "end"
   ]
  },
  {
   "cell_type": "code",
   "execution_count": null,
   "metadata": {
    "Collapsed": "false",
    "scrolled": true
   },
   "outputs": [],
   "source": [
    "@time img_edge, img_clear, mask_edge, mask_clear = split_cell_LoG(img_16_2, 137);\n",
    "save(\"mask4stat.jld\",\"nucleus\", mask_clear, \"edge\", mask_edge);\n",
    "save(\"output/img_16_2_edge.tiff\", img_edge);\n",
    "save(\"output/img_16_2_clear.tiff\", img_clear[:,:,1:20:end]);\n",
    "#save(\"output/img_16_2_edge_z.tiff\", edge);\n",
    "#save(\"output/img_16_2_clear_z.tiff\", clear);"
   ]
  },
  {
   "cell_type": "code",
   "execution_count": null,
   "metadata": {
    "Collapsed": "false",
    "scrolled": true
   },
   "outputs": [],
   "source": [
    "@time edge, clear = split_cell_LoG(img_15_1, 20);\n",
    "save(\"output/img_15_1_edge.tiff\", edge);\n",
    "save(\"output/img_15_1_clear.tiff\", clear);"
   ]
  },
  {
   "cell_type": "code",
   "execution_count": null,
   "metadata": {
    "Collapsed": "false",
    "scrolled": true
   },
   "outputs": [],
   "source": [
    "@time edge, clear = split_cell_LoG(img_16_2, 1);\n",
    "save(\"output/img_16_2_edge_z.tiff\", edge);\n",
    "save(\"output/img_16_2_clear_z.tiff\", clear);"
   ]
  },
  {
   "cell_type": "code",
   "execution_count": null,
   "metadata": {
    "Collapsed": "false",
    "scrolled": true
   },
   "outputs": [],
   "source": [
    "@time out = split_cell_LoG(img_16_2, 137);\n",
    "save(\"output/img_16_2.tiff\", out);"
   ]
  },
  {
   "cell_type": "code",
   "execution_count": 75,
   "metadata": {
    "Collapsed": "false"
   },
   "outputs": [
    {
     "data": {
      "image/svg+xml": [
       "<?xml version=\"1.0\" encoding=\"utf-8\"?>\n",
       "<svg xmlns=\"http://www.w3.org/2000/svg\" xmlns:xlink=\"http://www.w3.org/1999/xlink\" width=\"600\" height=\"400\" viewBox=\"0 0 2400 1600\">\n",
       "<defs>\n",
       "  <clipPath id=\"clip2700\">\n",
       "    <rect x=\"0\" y=\"0\" width=\"2400\" height=\"1600\"/>\n",
       "  </clipPath>\n",
       "</defs>\n",
       "<path clip-path=\"url(#clip2700)\" d=\"\n",
       "M0 1600 L2400 1600 L2400 0 L0 0  Z\n",
       "  \" fill=\"#ffffff\" fill-rule=\"evenodd\" fill-opacity=\"1\"/>\n",
       "<defs>\n",
       "  <clipPath id=\"clip2701\">\n",
       "    <rect x=\"480\" y=\"0\" width=\"1681\" height=\"1600\"/>\n",
       "  </clipPath>\n",
       "</defs>\n",
       "<path clip-path=\"url(#clip2700)\" d=\"\n",
       "M199.978 1486.45 L2352.76 1486.45 L2352.76 47.2441 L199.978 47.2441  Z\n",
       "  \" fill=\"#ffffff\" fill-rule=\"evenodd\" fill-opacity=\"1\"/>\n",
       "<defs>\n",
       "  <clipPath id=\"clip2702\">\n",
       "    <rect x=\"199\" y=\"47\" width=\"2154\" height=\"1440\"/>\n",
       "  </clipPath>\n",
       "</defs>\n",
       "<polyline clip-path=\"url(#clip2702)\" style=\"stroke:#000000; stroke-width:2; stroke-opacity:0.1; fill:none\" points=\"\n",
       "  514.138,1486.45 514.138,47.2441 \n",
       "  \"/>\n",
       "<polyline clip-path=\"url(#clip2702)\" style=\"stroke:#000000; stroke-width:2; stroke-opacity:0.1; fill:none\" points=\"\n",
       "  1020.6,1486.45 1020.6,47.2441 \n",
       "  \"/>\n",
       "<polyline clip-path=\"url(#clip2702)\" style=\"stroke:#000000; stroke-width:2; stroke-opacity:0.1; fill:none\" points=\"\n",
       "  1527.07,1486.45 1527.07,47.2441 \n",
       "  \"/>\n",
       "<polyline clip-path=\"url(#clip2702)\" style=\"stroke:#000000; stroke-width:2; stroke-opacity:0.1; fill:none\" points=\"\n",
       "  2033.53,1486.45 2033.53,47.2441 \n",
       "  \"/>\n",
       "<polyline clip-path=\"url(#clip2702)\" style=\"stroke:#000000; stroke-width:2; stroke-opacity:0.1; fill:none\" points=\"\n",
       "  199.978,1445.72 2352.76,1445.72 \n",
       "  \"/>\n",
       "<polyline clip-path=\"url(#clip2702)\" style=\"stroke:#000000; stroke-width:2; stroke-opacity:0.1; fill:none\" points=\"\n",
       "  199.978,1192.04 2352.76,1192.04 \n",
       "  \"/>\n",
       "<polyline clip-path=\"url(#clip2702)\" style=\"stroke:#000000; stroke-width:2; stroke-opacity:0.1; fill:none\" points=\"\n",
       "  199.978,938.373 2352.76,938.373 \n",
       "  \"/>\n",
       "<polyline clip-path=\"url(#clip2702)\" style=\"stroke:#000000; stroke-width:2; stroke-opacity:0.1; fill:none\" points=\"\n",
       "  199.978,684.702 2352.76,684.702 \n",
       "  \"/>\n",
       "<polyline clip-path=\"url(#clip2702)\" style=\"stroke:#000000; stroke-width:2; stroke-opacity:0.1; fill:none\" points=\"\n",
       "  199.978,431.031 2352.76,431.031 \n",
       "  \"/>\n",
       "<polyline clip-path=\"url(#clip2702)\" style=\"stroke:#000000; stroke-width:2; stroke-opacity:0.1; fill:none\" points=\"\n",
       "  199.978,177.36 2352.76,177.36 \n",
       "  \"/>\n",
       "<polyline clip-path=\"url(#clip2700)\" style=\"stroke:#000000; stroke-width:4; stroke-opacity:1; fill:none\" points=\"\n",
       "  199.978,1486.45 2352.76,1486.45 \n",
       "  \"/>\n",
       "<polyline clip-path=\"url(#clip2700)\" style=\"stroke:#000000; stroke-width:4; stroke-opacity:1; fill:none\" points=\"\n",
       "  199.978,1486.45 199.978,47.2441 \n",
       "  \"/>\n",
       "<polyline clip-path=\"url(#clip2700)\" style=\"stroke:#000000; stroke-width:4; stroke-opacity:1; fill:none\" points=\"\n",
       "  514.138,1486.45 514.138,1469.18 \n",
       "  \"/>\n",
       "<polyline clip-path=\"url(#clip2700)\" style=\"stroke:#000000; stroke-width:4; stroke-opacity:1; fill:none\" points=\"\n",
       "  1020.6,1486.45 1020.6,1469.18 \n",
       "  \"/>\n",
       "<polyline clip-path=\"url(#clip2700)\" style=\"stroke:#000000; stroke-width:4; stroke-opacity:1; fill:none\" points=\"\n",
       "  1527.07,1486.45 1527.07,1469.18 \n",
       "  \"/>\n",
       "<polyline clip-path=\"url(#clip2700)\" style=\"stroke:#000000; stroke-width:4; stroke-opacity:1; fill:none\" points=\"\n",
       "  2033.53,1486.45 2033.53,1469.18 \n",
       "  \"/>\n",
       "<polyline clip-path=\"url(#clip2700)\" style=\"stroke:#000000; stroke-width:4; stroke-opacity:1; fill:none\" points=\"\n",
       "  199.978,1445.72 225.811,1445.72 \n",
       "  \"/>\n",
       "<polyline clip-path=\"url(#clip2700)\" style=\"stroke:#000000; stroke-width:4; stroke-opacity:1; fill:none\" points=\"\n",
       "  199.978,1192.04 225.811,1192.04 \n",
       "  \"/>\n",
       "<polyline clip-path=\"url(#clip2700)\" style=\"stroke:#000000; stroke-width:4; stroke-opacity:1; fill:none\" points=\"\n",
       "  199.978,938.373 225.811,938.373 \n",
       "  \"/>\n",
       "<polyline clip-path=\"url(#clip2700)\" style=\"stroke:#000000; stroke-width:4; stroke-opacity:1; fill:none\" points=\"\n",
       "  199.978,684.702 225.811,684.702 \n",
       "  \"/>\n",
       "<polyline clip-path=\"url(#clip2700)\" style=\"stroke:#000000; stroke-width:4; stroke-opacity:1; fill:none\" points=\"\n",
       "  199.978,431.031 225.811,431.031 \n",
       "  \"/>\n",
       "<polyline clip-path=\"url(#clip2700)\" style=\"stroke:#000000; stroke-width:4; stroke-opacity:1; fill:none\" points=\"\n",
       "  199.978,177.36 225.811,177.36 \n",
       "  \"/>\n",
       "<path clip-path=\"url(#clip2700)\" d=\"M 0 0 M469.439 1508.44 Q465.828 1508.44 463.999 1512 Q462.193 1515.55 462.193 1522.67 Q462.193 1529.78 463.999 1533.35 Q465.828 1536.89 469.439 1536.89 Q473.073 1536.89 474.879 1533.35 Q476.707 1529.78 476.707 1522.67 Q476.707 1515.55 474.879 1512 Q473.073 1508.44 469.439 1508.44 M469.439 1504.73 Q475.249 1504.73 478.304 1509.34 Q481.383 1513.92 481.383 1522.67 Q481.383 1531.4 478.304 1536.01 Q475.249 1540.59 469.439 1540.59 Q463.629 1540.59 460.55 1536.01 Q457.494 1531.4 457.494 1522.67 Q457.494 1513.92 460.55 1509.34 Q463.629 1504.73 469.439 1504.73 Z\" fill=\"#000000\" fill-rule=\"evenodd\" fill-opacity=\"1\" /><path clip-path=\"url(#clip2700)\" d=\"M 0 0 M486.453 1534.04 L491.337 1534.04 L491.337 1539.92 L486.453 1539.92 L486.453 1534.04 Z\" fill=\"#000000\" fill-rule=\"evenodd\" fill-opacity=\"1\" /><path clip-path=\"url(#clip2700)\" d=\"M 0 0 M506.406 1508.44 Q502.795 1508.44 500.966 1512 Q499.161 1515.55 499.161 1522.67 Q499.161 1529.78 500.966 1533.35 Q502.795 1536.89 506.406 1536.89 Q510.04 1536.89 511.846 1533.35 Q513.675 1529.78 513.675 1522.67 Q513.675 1515.55 511.846 1512 Q510.04 1508.44 506.406 1508.44 M506.406 1504.73 Q512.216 1504.73 515.272 1509.34 Q518.351 1513.92 518.351 1522.67 Q518.351 1531.4 515.272 1536.01 Q512.216 1540.59 506.406 1540.59 Q500.596 1540.59 497.517 1536.01 Q494.462 1531.4 494.462 1522.67 Q494.462 1513.92 497.517 1509.34 Q500.596 1504.73 506.406 1504.73 Z\" fill=\"#000000\" fill-rule=\"evenodd\" fill-opacity=\"1\" /><path clip-path=\"url(#clip2700)\" d=\"M 0 0 M533.42 1508.44 Q529.809 1508.44 527.98 1512 Q526.175 1515.55 526.175 1522.67 Q526.175 1529.78 527.98 1533.35 Q529.809 1536.89 533.42 1536.89 Q537.054 1536.89 538.86 1533.35 Q540.688 1529.78 540.688 1522.67 Q540.688 1515.55 538.86 1512 Q537.054 1508.44 533.42 1508.44 M533.42 1504.73 Q539.23 1504.73 542.286 1509.34 Q545.364 1513.92 545.364 1522.67 Q545.364 1531.4 542.286 1536.01 Q539.23 1540.59 533.42 1540.59 Q527.61 1540.59 524.531 1536.01 Q521.476 1531.4 521.476 1522.67 Q521.476 1513.92 524.531 1509.34 Q527.61 1504.73 533.42 1504.73 Z\" fill=\"#000000\" fill-rule=\"evenodd\" fill-opacity=\"1\" /><path clip-path=\"url(#clip2700)\" d=\"M 0 0 M554.461 1535.98 L570.781 1535.98 L570.781 1539.92 L548.836 1539.92 L548.836 1535.98 Q551.499 1533.23 556.082 1528.6 Q560.688 1523.95 561.869 1522.61 Q564.114 1520.08 564.994 1518.35 Q565.897 1516.59 565.897 1514.9 Q565.897 1512.14 563.952 1510.41 Q562.031 1508.67 558.929 1508.67 Q556.73 1508.67 554.276 1509.43 Q551.846 1510.2 549.068 1511.75 L549.068 1507.03 Q551.892 1505.89 554.346 1505.31 Q556.799 1504.73 558.836 1504.73 Q564.207 1504.73 567.401 1507.42 Q570.596 1510.11 570.596 1514.6 Q570.596 1516.73 569.785 1518.65 Q568.998 1520.54 566.892 1523.14 Q566.313 1523.81 563.211 1527.03 Q560.11 1530.22 554.461 1535.98 Z\" fill=\"#000000\" fill-rule=\"evenodd\" fill-opacity=\"1\" /><path clip-path=\"url(#clip2700)\" d=\"M 0 0 M974.862 1508.44 Q971.251 1508.44 969.422 1512 Q967.616 1515.55 967.616 1522.67 Q967.616 1529.78 969.422 1533.35 Q971.251 1536.89 974.862 1536.89 Q978.496 1536.89 980.301 1533.35 Q982.13 1529.78 982.13 1522.67 Q982.13 1515.55 980.301 1512 Q978.496 1508.44 974.862 1508.44 M974.862 1504.73 Q980.672 1504.73 983.727 1509.34 Q986.806 1513.92 986.806 1522.67 Q986.806 1531.4 983.727 1536.01 Q980.672 1540.59 974.862 1540.59 Q969.052 1540.59 965.973 1536.01 Q962.917 1531.4 962.917 1522.67 Q962.917 1513.92 965.973 1509.34 Q969.052 1504.73 974.862 1504.73 Z\" fill=\"#000000\" fill-rule=\"evenodd\" fill-opacity=\"1\" /><path clip-path=\"url(#clip2700)\" d=\"M 0 0 M991.875 1534.04 L996.76 1534.04 L996.76 1539.92 L991.875 1539.92 L991.875 1534.04 Z\" fill=\"#000000\" fill-rule=\"evenodd\" fill-opacity=\"1\" /><path clip-path=\"url(#clip2700)\" d=\"M 0 0 M1011.83 1508.44 Q1008.22 1508.44 1006.39 1512 Q1004.58 1515.55 1004.58 1522.67 Q1004.58 1529.78 1006.39 1533.35 Q1008.22 1536.89 1011.83 1536.89 Q1015.46 1536.89 1017.27 1533.35 Q1019.1 1529.78 1019.1 1522.67 Q1019.1 1515.55 1017.27 1512 Q1015.46 1508.44 1011.83 1508.44 M1011.83 1504.73 Q1017.64 1504.73 1020.69 1509.34 Q1023.77 1513.92 1023.77 1522.67 Q1023.77 1531.4 1020.69 1536.01 Q1017.64 1540.59 1011.83 1540.59 Q1006.02 1540.59 1002.94 1536.01 Q999.885 1531.4 999.885 1522.67 Q999.885 1513.92 1002.94 1509.34 Q1006.02 1504.73 1011.83 1504.73 Z\" fill=\"#000000\" fill-rule=\"evenodd\" fill-opacity=\"1\" /><path clip-path=\"url(#clip2700)\" d=\"M 0 0 M1038.84 1508.44 Q1035.23 1508.44 1033.4 1512 Q1031.6 1515.55 1031.6 1522.67 Q1031.6 1529.78 1033.4 1533.35 Q1035.23 1536.89 1038.84 1536.89 Q1042.48 1536.89 1044.28 1533.35 Q1046.11 1529.78 1046.11 1522.67 Q1046.11 1515.55 1044.28 1512 Q1042.48 1508.44 1038.84 1508.44 M1038.84 1504.73 Q1044.65 1504.73 1047.71 1509.34 Q1050.79 1513.92 1050.79 1522.67 Q1050.79 1531.4 1047.71 1536.01 Q1044.65 1540.59 1038.84 1540.59 Q1033.03 1540.59 1029.95 1536.01 Q1026.9 1531.4 1026.9 1522.67 Q1026.9 1513.92 1029.95 1509.34 Q1033.03 1504.73 1038.84 1504.73 Z\" fill=\"#000000\" fill-rule=\"evenodd\" fill-opacity=\"1\" /><path clip-path=\"url(#clip2700)\" d=\"M 0 0 M1068.7 1509.43 L1056.9 1527.88 L1068.7 1527.88 L1068.7 1509.43 M1067.48 1505.36 L1073.36 1505.36 L1073.36 1527.88 L1078.29 1527.88 L1078.29 1531.77 L1073.36 1531.77 L1073.36 1539.92 L1068.7 1539.92 L1068.7 1531.77 L1053.1 1531.77 L1053.1 1527.26 L1067.48 1505.36 Z\" fill=\"#000000\" fill-rule=\"evenodd\" fill-opacity=\"1\" /><path clip-path=\"url(#clip2700)\" d=\"M 0 0 M1481.49 1508.44 Q1477.88 1508.44 1476.05 1512 Q1474.24 1515.55 1474.24 1522.67 Q1474.24 1529.78 1476.05 1533.35 Q1477.88 1536.89 1481.49 1536.89 Q1485.12 1536.89 1486.93 1533.35 Q1488.76 1529.78 1488.76 1522.67 Q1488.76 1515.55 1486.93 1512 Q1485.12 1508.44 1481.49 1508.44 M1481.49 1504.73 Q1487.3 1504.73 1490.35 1509.34 Q1493.43 1513.92 1493.43 1522.67 Q1493.43 1531.4 1490.35 1536.01 Q1487.3 1540.59 1481.49 1540.59 Q1475.68 1540.59 1472.6 1536.01 Q1469.54 1531.4 1469.54 1522.67 Q1469.54 1513.92 1472.6 1509.34 Q1475.68 1504.73 1481.49 1504.73 Z\" fill=\"#000000\" fill-rule=\"evenodd\" fill-opacity=\"1\" /><path clip-path=\"url(#clip2700)\" d=\"M 0 0 M1498.5 1534.04 L1503.39 1534.04 L1503.39 1539.92 L1498.5 1539.92 L1498.5 1534.04 Z\" fill=\"#000000\" fill-rule=\"evenodd\" fill-opacity=\"1\" /><path clip-path=\"url(#clip2700)\" d=\"M 0 0 M1518.46 1508.44 Q1514.84 1508.44 1513.02 1512 Q1511.21 1515.55 1511.21 1522.67 Q1511.21 1529.78 1513.02 1533.35 Q1514.84 1536.89 1518.46 1536.89 Q1522.09 1536.89 1523.9 1533.35 Q1525.72 1529.78 1525.72 1522.67 Q1525.72 1515.55 1523.9 1512 Q1522.09 1508.44 1518.46 1508.44 M1518.46 1504.73 Q1524.27 1504.73 1527.32 1509.34 Q1530.4 1513.92 1530.4 1522.67 Q1530.4 1531.4 1527.32 1536.01 Q1524.27 1540.59 1518.46 1540.59 Q1512.65 1540.59 1509.57 1536.01 Q1506.51 1531.4 1506.51 1522.67 Q1506.51 1513.92 1509.57 1509.34 Q1512.65 1504.73 1518.46 1504.73 Z\" fill=\"#000000\" fill-rule=\"evenodd\" fill-opacity=\"1\" /><path clip-path=\"url(#clip2700)\" d=\"M 0 0 M1545.47 1508.44 Q1541.86 1508.44 1540.03 1512 Q1538.22 1515.55 1538.22 1522.67 Q1538.22 1529.78 1540.03 1533.35 Q1541.86 1536.89 1545.47 1536.89 Q1549.1 1536.89 1550.91 1533.35 Q1552.74 1529.78 1552.74 1522.67 Q1552.74 1515.55 1550.91 1512 Q1549.1 1508.44 1545.47 1508.44 M1545.47 1504.73 Q1551.28 1504.73 1554.34 1509.34 Q1557.41 1513.92 1557.41 1522.67 Q1557.41 1531.4 1554.34 1536.01 Q1551.28 1540.59 1545.47 1540.59 Q1539.66 1540.59 1536.58 1536.01 Q1533.53 1531.4 1533.53 1522.67 Q1533.53 1513.92 1536.58 1509.34 Q1539.66 1504.73 1545.47 1504.73 Z\" fill=\"#000000\" fill-rule=\"evenodd\" fill-opacity=\"1\" /><path clip-path=\"url(#clip2700)\" d=\"M 0 0 M1573.06 1520.78 Q1569.91 1520.78 1568.06 1522.93 Q1566.23 1525.08 1566.23 1528.83 Q1566.23 1532.56 1568.06 1534.73 Q1569.91 1536.89 1573.06 1536.89 Q1576.21 1536.89 1578.04 1534.73 Q1579.89 1532.56 1579.89 1528.83 Q1579.89 1525.08 1578.04 1522.93 Q1576.21 1520.78 1573.06 1520.78 M1582.34 1506.12 L1582.34 1510.38 Q1580.58 1509.55 1578.78 1509.11 Q1577 1508.67 1575.24 1508.67 Q1570.61 1508.67 1568.15 1511.8 Q1565.72 1514.92 1565.38 1521.24 Q1566.74 1519.23 1568.8 1518.16 Q1570.86 1517.07 1573.34 1517.07 Q1578.55 1517.07 1581.56 1520.24 Q1584.59 1523.39 1584.59 1528.83 Q1584.59 1534.16 1581.44 1537.37 Q1578.29 1540.59 1573.06 1540.59 Q1567.07 1540.59 1563.9 1536.01 Q1560.72 1531.4 1560.72 1522.67 Q1560.72 1514.48 1564.61 1509.62 Q1568.5 1504.73 1575.05 1504.73 Q1576.81 1504.73 1578.59 1505.08 Q1580.4 1505.43 1582.34 1506.12 Z\" fill=\"#000000\" fill-rule=\"evenodd\" fill-opacity=\"1\" /><path clip-path=\"url(#clip2700)\" d=\"M 0 0 M1988.08 1508.44 Q1984.47 1508.44 1982.64 1512 Q1980.83 1515.55 1980.83 1522.67 Q1980.83 1529.78 1982.64 1533.35 Q1984.47 1536.89 1988.08 1536.89 Q1991.71 1536.89 1993.52 1533.35 Q1995.35 1529.78 1995.35 1522.67 Q1995.35 1515.55 1993.52 1512 Q1991.71 1508.44 1988.08 1508.44 M1988.08 1504.73 Q1993.89 1504.73 1996.95 1509.34 Q2000.02 1513.92 2000.02 1522.67 Q2000.02 1531.4 1996.95 1536.01 Q1993.89 1540.59 1988.08 1540.59 Q1982.27 1540.59 1979.19 1536.01 Q1976.14 1531.4 1976.14 1522.67 Q1976.14 1513.92 1979.19 1509.34 Q1982.27 1504.73 1988.08 1504.73 Z\" fill=\"#000000\" fill-rule=\"evenodd\" fill-opacity=\"1\" /><path clip-path=\"url(#clip2700)\" d=\"M 0 0 M2005.09 1534.04 L2009.98 1534.04 L2009.98 1539.92 L2005.09 1539.92 L2005.09 1534.04 Z\" fill=\"#000000\" fill-rule=\"evenodd\" fill-opacity=\"1\" /><path clip-path=\"url(#clip2700)\" d=\"M 0 0 M2025.05 1508.44 Q2021.44 1508.44 2019.61 1512 Q2017.8 1515.55 2017.8 1522.67 Q2017.8 1529.78 2019.61 1533.35 Q2021.44 1536.89 2025.05 1536.89 Q2028.68 1536.89 2030.49 1533.35 Q2032.32 1529.78 2032.32 1522.67 Q2032.32 1515.55 2030.49 1512 Q2028.68 1508.44 2025.05 1508.44 M2025.05 1504.73 Q2030.86 1504.73 2033.91 1509.34 Q2036.99 1513.92 2036.99 1522.67 Q2036.99 1531.4 2033.91 1536.01 Q2030.86 1540.59 2025.05 1540.59 Q2019.24 1540.59 2016.16 1536.01 Q2013.1 1531.4 2013.1 1522.67 Q2013.1 1513.92 2016.16 1509.34 Q2019.24 1504.73 2025.05 1504.73 Z\" fill=\"#000000\" fill-rule=\"evenodd\" fill-opacity=\"1\" /><path clip-path=\"url(#clip2700)\" d=\"M 0 0 M2052.06 1508.44 Q2048.45 1508.44 2046.62 1512 Q2044.82 1515.55 2044.82 1522.67 Q2044.82 1529.78 2046.62 1533.35 Q2048.45 1536.89 2052.06 1536.89 Q2055.7 1536.89 2057.5 1533.35 Q2059.33 1529.78 2059.33 1522.67 Q2059.33 1515.55 2057.5 1512 Q2055.7 1508.44 2052.06 1508.44 M2052.06 1504.73 Q2057.87 1504.73 2060.93 1509.34 Q2064.01 1513.92 2064.01 1522.67 Q2064.01 1531.4 2060.93 1536.01 Q2057.87 1540.59 2052.06 1540.59 Q2046.25 1540.59 2043.17 1536.01 Q2040.12 1531.4 2040.12 1522.67 Q2040.12 1513.92 2043.17 1509.34 Q2046.25 1504.73 2052.06 1504.73 Z\" fill=\"#000000\" fill-rule=\"evenodd\" fill-opacity=\"1\" /><path clip-path=\"url(#clip2700)\" d=\"M 0 0 M2079.08 1523.51 Q2075.74 1523.51 2073.82 1525.29 Q2071.92 1527.07 2071.92 1530.2 Q2071.92 1533.32 2073.82 1535.11 Q2075.74 1536.89 2079.08 1536.89 Q2082.41 1536.89 2084.33 1535.11 Q2086.25 1533.3 2086.25 1530.2 Q2086.25 1527.07 2084.33 1525.29 Q2082.43 1523.51 2079.08 1523.51 M2074.4 1521.52 Q2071.39 1520.78 2069.7 1518.72 Q2068.03 1516.66 2068.03 1513.69 Q2068.03 1509.55 2070.97 1507.14 Q2073.94 1504.73 2079.08 1504.73 Q2084.24 1504.73 2087.18 1507.14 Q2090.12 1509.55 2090.12 1513.69 Q2090.12 1516.66 2088.43 1518.72 Q2086.76 1520.78 2083.77 1521.52 Q2087.15 1522.3 2089.03 1524.6 Q2090.93 1526.89 2090.93 1530.2 Q2090.93 1535.22 2087.85 1537.91 Q2084.79 1540.59 2079.08 1540.59 Q2073.36 1540.59 2070.28 1537.91 Q2067.22 1535.22 2067.22 1530.2 Q2067.22 1526.89 2069.12 1524.6 Q2071.02 1522.3 2074.4 1521.52 M2072.69 1514.13 Q2072.69 1516.82 2074.35 1518.32 Q2076.04 1519.83 2079.08 1519.83 Q2082.08 1519.83 2083.77 1518.32 Q2085.49 1516.82 2085.49 1514.13 Q2085.49 1511.45 2083.77 1509.94 Q2082.08 1508.44 2079.08 1508.44 Q2076.04 1508.44 2074.35 1509.94 Q2072.69 1511.45 2072.69 1514.13 Z\" fill=\"#000000\" fill-rule=\"evenodd\" fill-opacity=\"1\" /><path clip-path=\"url(#clip2700)\" d=\"M 0 0 M164.033 1431.51 Q160.422 1431.51 158.593 1435.08 Q156.788 1438.62 156.788 1445.75 Q156.788 1452.86 158.593 1456.42 Q160.422 1459.96 164.033 1459.96 Q167.667 1459.96 169.473 1456.42 Q171.302 1452.86 171.302 1445.75 Q171.302 1438.62 169.473 1435.08 Q167.667 1431.51 164.033 1431.51 M164.033 1427.81 Q169.843 1427.81 172.899 1432.42 Q175.978 1437 175.978 1445.75 Q175.978 1454.48 172.899 1459.08 Q169.843 1463.67 164.033 1463.67 Q158.223 1463.67 155.144 1459.08 Q152.089 1454.48 152.089 1445.75 Q152.089 1437 155.144 1432.42 Q158.223 1427.81 164.033 1427.81 Z\" fill=\"#000000\" fill-rule=\"evenodd\" fill-opacity=\"1\" /><path clip-path=\"url(#clip2700)\" d=\"M 0 0 M61.4875 1181.21 L79.8439 1181.21 L79.8439 1185.15 L65.7699 1185.15 L65.7699 1193.62 Q66.7884 1193.27 67.8069 1193.11 Q68.8254 1192.93 69.8439 1192.93 Q75.6309 1192.93 79.0106 1196.1 Q82.3902 1199.27 82.3902 1204.68 Q82.3902 1210.26 78.918 1213.36 Q75.4458 1216.44 69.1264 1216.44 Q66.9504 1216.44 64.6819 1216.07 Q62.4366 1215.7 60.0292 1214.96 L60.0292 1210.26 Q62.1125 1211.4 64.3347 1211.95 Q66.5569 1212.51 69.0338 1212.51 Q73.0384 1212.51 75.3763 1210.4 Q77.7143 1208.3 77.7143 1204.68 Q77.7143 1201.07 75.3763 1198.97 Q73.0384 1196.86 69.0338 1196.86 Q67.1588 1196.86 65.2838 1197.28 Q63.4319 1197.69 61.4875 1198.57 L61.4875 1181.21 Z\" fill=\"#000000\" fill-rule=\"evenodd\" fill-opacity=\"1\" /><path clip-path=\"url(#clip2700)\" d=\"M 0 0 M87.4596 1209.89 L92.3438 1209.89 L92.3438 1215.77 L87.4596 1215.77 L87.4596 1209.89 Z\" fill=\"#000000\" fill-rule=\"evenodd\" fill-opacity=\"1\" /><path clip-path=\"url(#clip2700)\" d=\"M 0 0 M107.413 1184.29 Q103.802 1184.29 101.973 1187.86 Q100.168 1191.4 100.168 1198.53 Q100.168 1205.63 101.973 1209.2 Q103.802 1212.74 107.413 1212.74 Q111.047 1212.74 112.853 1209.2 Q114.682 1205.63 114.682 1198.53 Q114.682 1191.4 112.853 1187.86 Q111.047 1184.29 107.413 1184.29 M107.413 1180.59 Q113.223 1180.59 116.279 1185.19 Q119.358 1189.78 119.358 1198.53 Q119.358 1207.25 116.279 1211.86 Q113.223 1216.44 107.413 1216.44 Q101.603 1216.44 98.5243 1211.86 Q95.4688 1207.25 95.4688 1198.53 Q95.4688 1189.78 98.5243 1185.19 Q101.603 1180.59 107.413 1180.59 Z\" fill=\"#000000\" fill-rule=\"evenodd\" fill-opacity=\"1\" /><path clip-path=\"url(#clip2700)\" d=\"M 0 0 M124.196 1185.22 L128.501 1185.22 L128.501 1220.4 L124.196 1220.4 L124.196 1185.22 Z\" fill=\"#000000\" fill-rule=\"evenodd\" fill-opacity=\"1\" /><path clip-path=\"url(#clip2700)\" d=\"M 0 0 M143.57 1184.29 Q139.959 1184.29 138.131 1187.86 Q136.325 1191.4 136.325 1198.53 Q136.325 1205.63 138.131 1209.2 Q139.959 1212.74 143.57 1212.74 Q147.205 1212.74 149.01 1209.2 Q150.839 1205.63 150.839 1198.53 Q150.839 1191.4 149.01 1187.86 Q147.205 1184.29 143.57 1184.29 M143.57 1180.59 Q149.381 1180.59 152.436 1185.19 Q155.515 1189.78 155.515 1198.53 Q155.515 1207.25 152.436 1211.86 Q149.381 1216.44 143.57 1216.44 Q137.76 1216.44 134.682 1211.86 Q131.626 1207.25 131.626 1198.53 Q131.626 1189.78 134.682 1185.19 Q137.76 1180.59 143.57 1180.59 Z\" fill=\"#000000\" fill-rule=\"evenodd\" fill-opacity=\"1\" /><path clip-path=\"url(#clip2700)\" d=\"M 0 0 M168.191 1163.59 L158.599 1178.58 L168.191 1178.58 L168.191 1163.59 M167.194 1160.28 L171.972 1160.28 L171.972 1178.58 L175.978 1178.58 L175.978 1181.74 L171.972 1181.74 L171.972 1188.36 L168.191 1188.36 L168.191 1181.74 L155.515 1181.74 L155.515 1178.07 L167.194 1160.28 Z\" fill=\"#000000\" fill-rule=\"evenodd\" fill-opacity=\"1\" /><path clip-path=\"url(#clip2700)\" d=\"M 0 0 M64.7774 958.166 L72.4163 958.166 L72.4163 931.8 L64.1061 933.467 L64.1061 929.208 L72.37 927.541 L77.0459 927.541 L77.0459 958.166 L84.6847 958.166 L84.6847 962.101 L64.7774 962.101 L64.7774 958.166 Z\" fill=\"#000000\" fill-rule=\"evenodd\" fill-opacity=\"1\" /><path clip-path=\"url(#clip2700)\" d=\"M 0 0 M89.7541 956.221 L94.6384 956.221 L94.6384 962.101 L89.7541 962.101 L89.7541 956.221 Z\" fill=\"#000000\" fill-rule=\"evenodd\" fill-opacity=\"1\" /><path clip-path=\"url(#clip2700)\" d=\"M 0 0 M109.708 930.62 Q106.097 930.62 104.268 934.184 Q102.462 937.726 102.462 944.856 Q102.462 951.962 104.268 955.527 Q106.097 959.069 109.708 959.069 Q113.342 959.069 115.148 955.527 Q116.976 951.962 116.976 944.856 Q116.976 937.726 115.148 934.184 Q113.342 930.62 109.708 930.62 M109.708 926.916 Q115.518 926.916 118.573 931.522 Q121.652 936.106 121.652 944.856 Q121.652 953.582 118.573 958.189 Q115.518 962.772 109.708 962.772 Q103.898 962.772 100.819 958.189 Q97.7634 953.582 97.7634 944.856 Q97.7634 936.106 100.819 931.522 Q103.898 926.916 109.708 926.916 Z\" fill=\"#000000\" fill-rule=\"evenodd\" fill-opacity=\"1\" /><path clip-path=\"url(#clip2700)\" d=\"M 0 0 M126.49 931.546 L130.796 931.546 L130.796 966.731 L126.49 966.731 L126.49 931.546 Z\" fill=\"#000000\" fill-rule=\"evenodd\" fill-opacity=\"1\" /><path clip-path=\"url(#clip2700)\" d=\"M 0 0 M145.865 930.62 Q142.254 930.62 140.425 934.184 Q138.62 937.726 138.62 944.856 Q138.62 951.962 140.425 955.527 Q142.254 959.069 145.865 959.069 Q149.499 959.069 151.305 955.527 Q153.133 951.962 153.133 944.856 Q153.133 937.726 151.305 934.184 Q149.499 930.62 145.865 930.62 M145.865 926.916 Q151.675 926.916 154.731 931.522 Q157.809 936.106 157.809 944.856 Q157.809 953.582 154.731 958.189 Q151.675 962.772 145.865 962.772 Q140.055 962.772 136.976 958.189 Q133.921 953.582 133.921 944.856 Q133.921 936.106 136.976 931.522 Q140.055 926.916 145.865 926.916 Z\" fill=\"#000000\" fill-rule=\"evenodd\" fill-opacity=\"1\" /><path clip-path=\"url(#clip2700)\" d=\"M 0 0 M158.994 906.611 L173.909 906.611 L173.909 909.808 L162.474 909.808 L162.474 916.692 Q163.301 916.409 164.129 916.278 Q164.956 916.127 165.784 916.127 Q170.486 916.127 173.232 918.704 Q175.978 921.281 175.978 925.682 Q175.978 930.214 173.156 932.735 Q170.335 935.236 165.201 935.236 Q163.433 935.236 161.59 934.935 Q159.765 934.634 157.809 934.032 L157.809 930.214 Q159.502 931.136 161.308 931.587 Q163.113 932.039 165.126 932.039 Q168.379 932.039 170.279 930.327 Q172.178 928.616 172.178 925.682 Q172.178 922.748 170.279 921.036 Q168.379 919.325 165.126 919.325 Q163.602 919.325 162.079 919.663 Q160.574 920.002 158.994 920.716 L158.994 906.611 Z\" fill=\"#000000\" fill-rule=\"evenodd\" fill-opacity=\"1\" /><path clip-path=\"url(#clip2700)\" d=\"M 0 0 M65.7728 704.495 L73.4116 704.495 L73.4116 678.129 L65.1015 679.796 L65.1015 675.536 L73.3653 673.87 L78.0412 673.87 L78.0412 704.495 L85.6801 704.495 L85.6801 708.43 L65.7728 708.43 L65.7728 704.495 Z\" fill=\"#000000\" fill-rule=\"evenodd\" fill-opacity=\"1\" /><path clip-path=\"url(#clip2700)\" d=\"M 0 0 M90.7495 702.55 L95.6337 702.55 L95.6337 708.43 L90.7495 708.43 L90.7495 702.55 Z\" fill=\"#000000\" fill-rule=\"evenodd\" fill-opacity=\"1\" /><path clip-path=\"url(#clip2700)\" d=\"M 0 0 M100.749 673.87 L119.106 673.87 L119.106 677.805 L105.032 677.805 L105.032 686.277 Q106.05 685.93 107.069 685.768 Q108.087 685.583 109.106 685.583 Q114.893 685.583 118.273 688.754 Q121.652 691.925 121.652 697.342 Q121.652 702.921 118.18 706.022 Q114.708 709.101 108.388 709.101 Q106.212 709.101 103.944 708.731 Q101.699 708.36 99.2911 707.62 L99.2911 702.921 Q101.374 704.055 103.597 704.61 Q105.819 705.166 108.296 705.166 Q112.3 705.166 114.638 703.059 Q116.976 700.953 116.976 697.342 Q116.976 693.731 114.638 691.624 Q112.3 689.518 108.296 689.518 Q106.421 689.518 104.546 689.935 Q102.694 690.351 100.749 691.231 L100.749 673.87 Z\" fill=\"#000000\" fill-rule=\"evenodd\" fill-opacity=\"1\" /><path clip-path=\"url(#clip2700)\" d=\"M 0 0 M126.49 677.874 L130.796 677.874 L130.796 713.059 L126.49 713.059 L126.49 677.874 Z\" fill=\"#000000\" fill-rule=\"evenodd\" fill-opacity=\"1\" /><path clip-path=\"url(#clip2700)\" d=\"M 0 0 M145.865 676.948 Q142.254 676.948 140.425 680.513 Q138.62 684.055 138.62 691.185 Q138.62 698.291 140.425 701.856 Q142.254 705.397 145.865 705.397 Q149.499 705.397 151.305 701.856 Q153.133 698.291 153.133 691.185 Q153.133 684.055 151.305 680.513 Q149.499 676.948 145.865 676.948 M145.865 673.245 Q151.675 673.245 154.731 677.851 Q157.809 682.435 157.809 691.185 Q157.809 699.911 154.731 704.518 Q151.675 709.101 145.865 709.101 Q140.055 709.101 136.976 704.518 Q133.921 699.911 133.921 691.185 Q133.921 682.435 136.976 677.851 Q140.055 673.245 145.865 673.245 Z\" fill=\"#000000\" fill-rule=\"evenodd\" fill-opacity=\"1\" /><path clip-path=\"url(#clip2700)\" d=\"M 0 0 M158.994 652.939 L173.909 652.939 L173.909 656.137 L162.474 656.137 L162.474 663.02 Q163.301 662.738 164.129 662.607 Q164.956 662.456 165.784 662.456 Q170.486 662.456 173.232 665.033 Q175.978 667.609 175.978 672.01 Q175.978 676.543 173.156 679.063 Q170.335 681.565 165.201 681.565 Q163.433 681.565 161.59 681.264 Q159.765 680.963 157.809 680.361 L157.809 676.543 Q159.502 677.465 161.308 677.916 Q163.113 678.367 165.126 678.367 Q168.379 678.367 170.279 676.656 Q172.178 674.944 172.178 672.01 Q172.178 669.076 170.279 667.365 Q168.379 665.653 165.126 665.653 Q163.602 665.653 162.079 665.992 Q160.574 666.331 158.994 667.045 L158.994 652.939 Z\" fill=\"#000000\" fill-rule=\"evenodd\" fill-opacity=\"1\" /><path clip-path=\"url(#clip2700)\" d=\"M 0 0 M68.3654 450.823 L84.6847 450.823 L84.6847 454.759 L62.7404 454.759 L62.7404 450.823 Q65.4024 448.069 69.9857 443.439 Q74.5922 438.786 75.7727 437.444 Q78.0181 434.921 78.8977 433.185 Q79.8005 431.425 79.8005 429.736 Q79.8005 426.981 77.8561 425.245 Q75.9348 423.509 72.8329 423.509 Q70.6339 423.509 68.1802 424.273 Q65.7496 425.037 62.9719 426.587 L62.9719 421.865 Q65.7959 420.731 68.2496 420.152 Q70.7033 419.574 72.7403 419.574 Q78.1107 419.574 81.3051 422.259 Q84.4995 424.944 84.4995 429.435 Q84.4995 431.564 83.6894 433.486 Q82.9023 435.384 80.7959 437.976 Q80.2171 438.648 77.1153 441.865 Q74.0135 445.06 68.3654 450.823 Z\" fill=\"#000000\" fill-rule=\"evenodd\" fill-opacity=\"1\" /><path clip-path=\"url(#clip2700)\" d=\"M 0 0 M89.7541 448.879 L94.6384 448.879 L94.6384 454.759 L89.7541 454.759 L89.7541 448.879 Z\" fill=\"#000000\" fill-rule=\"evenodd\" fill-opacity=\"1\" /><path clip-path=\"url(#clip2700)\" d=\"M 0 0 M109.708 423.277 Q106.097 423.277 104.268 426.842 Q102.462 430.384 102.462 437.513 Q102.462 444.62 104.268 448.185 Q106.097 451.726 109.708 451.726 Q113.342 451.726 115.148 448.185 Q116.976 444.62 116.976 437.513 Q116.976 430.384 115.148 426.842 Q113.342 423.277 109.708 423.277 M109.708 419.574 Q115.518 419.574 118.573 424.18 Q121.652 428.763 121.652 437.513 Q121.652 446.24 118.573 450.847 Q115.518 455.43 109.708 455.43 Q103.898 455.43 100.819 450.847 Q97.7634 446.24 97.7634 437.513 Q97.7634 428.763 100.819 424.18 Q103.898 419.574 109.708 419.574 Z\" fill=\"#000000\" fill-rule=\"evenodd\" fill-opacity=\"1\" /><path clip-path=\"url(#clip2700)\" d=\"M 0 0 M126.49 424.203 L130.796 424.203 L130.796 459.388 L126.49 459.388 L126.49 424.203 Z\" fill=\"#000000\" fill-rule=\"evenodd\" fill-opacity=\"1\" /><path clip-path=\"url(#clip2700)\" d=\"M 0 0 M145.865 423.277 Q142.254 423.277 140.425 426.842 Q138.62 430.384 138.62 437.513 Q138.62 444.62 140.425 448.185 Q142.254 451.726 145.865 451.726 Q149.499 451.726 151.305 448.185 Q153.133 444.62 153.133 437.513 Q153.133 430.384 151.305 426.842 Q149.499 423.277 145.865 423.277 M145.865 419.574 Q151.675 419.574 154.731 424.18 Q157.809 428.763 157.809 437.513 Q157.809 446.24 154.731 450.847 Q151.675 455.43 145.865 455.43 Q140.055 455.43 136.976 450.847 Q133.921 446.24 133.921 437.513 Q133.921 428.763 136.976 424.18 Q140.055 419.574 145.865 419.574 Z\" fill=\"#000000\" fill-rule=\"evenodd\" fill-opacity=\"1\" /><path clip-path=\"url(#clip2700)\" d=\"M 0 0 M158.994 399.268 L173.909 399.268 L173.909 402.466 L162.474 402.466 L162.474 409.349 Q163.301 409.067 164.129 408.935 Q164.956 408.785 165.784 408.785 Q170.486 408.785 173.232 411.362 Q175.978 413.938 175.978 418.339 Q175.978 422.872 173.156 425.392 Q170.335 427.894 165.201 427.894 Q163.433 427.894 161.59 427.593 Q159.765 427.292 157.809 426.69 L157.809 422.872 Q159.502 423.794 161.308 424.245 Q163.113 424.696 165.126 424.696 Q168.379 424.696 170.279 422.985 Q172.178 421.273 172.178 418.339 Q172.178 415.405 170.279 413.694 Q168.379 411.982 165.126 411.982 Q163.602 411.982 162.079 412.321 Q160.574 412.659 158.994 413.374 L158.994 399.268 Z\" fill=\"#000000\" fill-rule=\"evenodd\" fill-opacity=\"1\" /><path clip-path=\"url(#clip2700)\" d=\"M 0 0 M69.3607 197.152 L85.6801 197.152 L85.6801 201.087 L63.7358 201.087 L63.7358 197.152 Q66.3978 194.398 70.9811 189.768 Q75.5875 185.115 76.7681 183.773 Q79.0135 181.25 79.8931 179.513 Q80.7959 177.754 80.7959 176.064 Q80.7959 173.31 78.8514 171.574 Q76.9301 169.838 73.8283 169.838 Q71.6292 169.838 69.1755 170.602 Q66.745 171.365 63.9672 172.916 L63.9672 168.194 Q66.7913 167.06 69.245 166.481 Q71.6987 165.902 73.7357 165.902 Q79.106 165.902 82.3005 168.588 Q85.4949 171.273 85.4949 175.764 Q85.4949 177.893 84.6847 179.814 Q83.8977 181.713 81.7912 184.305 Q81.2125 184.976 78.1107 188.194 Q75.0088 191.388 69.3607 197.152 Z\" fill=\"#000000\" fill-rule=\"evenodd\" fill-opacity=\"1\" /><path clip-path=\"url(#clip2700)\" d=\"M 0 0 M90.7495 195.208 L95.6337 195.208 L95.6337 201.087 L90.7495 201.087 L90.7495 195.208 Z\" fill=\"#000000\" fill-rule=\"evenodd\" fill-opacity=\"1\" /><path clip-path=\"url(#clip2700)\" d=\"M 0 0 M100.749 166.527 L119.106 166.527 L119.106 170.463 L105.032 170.463 L105.032 178.935 Q106.05 178.588 107.069 178.426 Q108.087 178.24 109.106 178.24 Q114.893 178.24 118.273 181.412 Q121.652 184.583 121.652 190 Q121.652 195.578 118.18 198.68 Q114.708 201.759 108.388 201.759 Q106.212 201.759 103.944 201.388 Q101.699 201.018 99.2911 200.277 L99.2911 195.578 Q101.374 196.712 103.597 197.268 Q105.819 197.824 108.296 197.824 Q112.3 197.824 114.638 195.717 Q116.976 193.611 116.976 190 Q116.976 186.388 114.638 184.282 Q112.3 182.176 108.296 182.176 Q106.421 182.176 104.546 182.592 Q102.694 183.009 100.749 183.888 L100.749 166.527 Z\" fill=\"#000000\" fill-rule=\"evenodd\" fill-opacity=\"1\" /><path clip-path=\"url(#clip2700)\" d=\"M 0 0 M126.49 170.532 L130.796 170.532 L130.796 205.717 L126.49 205.717 L126.49 170.532 Z\" fill=\"#000000\" fill-rule=\"evenodd\" fill-opacity=\"1\" /><path clip-path=\"url(#clip2700)\" d=\"M 0 0 M145.865 169.606 Q142.254 169.606 140.425 173.171 Q138.62 176.713 138.62 183.842 Q138.62 190.949 140.425 194.513 Q142.254 198.055 145.865 198.055 Q149.499 198.055 151.305 194.513 Q153.133 190.949 153.133 183.842 Q153.133 176.713 151.305 173.171 Q149.499 169.606 145.865 169.606 M145.865 165.902 Q151.675 165.902 154.731 170.509 Q157.809 175.092 157.809 183.842 Q157.809 192.569 154.731 197.175 Q151.675 201.759 145.865 201.759 Q140.055 201.759 136.976 197.175 Q133.921 192.569 133.921 183.842 Q133.921 175.092 136.976 170.509 Q140.055 165.902 145.865 165.902 Z\" fill=\"#000000\" fill-rule=\"evenodd\" fill-opacity=\"1\" /><path clip-path=\"url(#clip2700)\" d=\"M 0 0 M158.994 145.597 L173.909 145.597 L173.909 148.794 L162.474 148.794 L162.474 155.678 Q163.301 155.396 164.129 155.264 Q164.956 155.114 165.784 155.114 Q170.486 155.114 173.232 157.69 Q175.978 160.267 175.978 164.668 Q175.978 169.201 173.156 171.721 Q170.335 174.222 165.201 174.222 Q163.433 174.222 161.59 173.922 Q159.765 173.621 157.809 173.019 L157.809 169.201 Q159.502 170.122 161.308 170.574 Q163.113 171.025 165.126 171.025 Q168.379 171.025 170.279 169.314 Q172.178 167.602 172.178 164.668 Q172.178 161.734 170.279 160.023 Q168.379 158.311 165.126 158.311 Q163.602 158.311 162.079 158.65 Q160.574 158.988 158.994 159.703 L158.994 145.597 Z\" fill=\"#000000\" fill-rule=\"evenodd\" fill-opacity=\"1\" /><polyline clip-path=\"url(#clip2702)\" style=\"stroke:#009af9; stroke-width:4; stroke-opacity:1; fill:none\" points=\"\n",
       "  260.905,1445.71 265.97,1445.72 271.035,1445.72 276.099,1445.71 281.164,1445.7 286.229,1445.72 291.293,1445.71 296.358,1445.69 301.422,1445.69 306.487,1445.68 \n",
       "  311.552,1445.69 316.616,1445.57 321.681,1445.62 326.746,1445.58 331.81,1445.25 336.875,1445.37 341.94,1445.21 347.004,1444.24 352.069,1444.58 357.134,1444.04 \n",
       "  362.198,1438.37 367.263,1437.44 372.328,1430.06 377.392,1417.26 382.457,1317.99 387.521,1336.29 392.586,1305.28 397.651,1047.19 402.715,1185.92 407.78,1152.63 \n",
       "  412.845,764.913 417.909,1064.71 422.974,1047.86 428.039,624.805 433.103,1023.37 438.168,1028.1 443.233,637.935 448.297,1061.59 453.362,1074.7 458.426,1089.19 \n",
       "  463.491,787.256 468.556,1146.91 473.62,1164.26 478.685,937.293 483.75,1215.17 488.814,1231.82 493.879,1059.39 498.944,1272.85 504.008,1282.52 509.073,1154.21 \n",
       "  514.138,1315.32 519.202,1324.84 524.267,1227.06 529.332,1348.45 534.396,1354.23 539.461,1359.45 544.525,1291.24 549.59,1375.61 554.655,1381.09 559.719,1327.69 \n",
       "  564.784,1391.99 569.849,1395.69 574.913,1356.08 579.978,1405.27 585.043,1407.81 590.107,1377.08 595.172,1413.65 600.237,1415.76 605.301,1417.22 610.366,1394.28 \n",
       "  615.431,1422.07 620.495,1423.6 625.56,1403.95 630.624,1427.18 635.689,1427.45 640.754,1411.61 645.818,1429.67 650.883,1430.31 655.948,1416.22 661.012,1431.45 \n",
       "  666.077,1432.15 671.142,1419.44 676.206,1433.02 681.271,1433.21 686.336,1433.88 691.4,1422.35 696.465,1434.33 701.529,1434.87 706.594,1424.72 711.659,1434.93 \n",
       "  716.723,1435.9 721.788,1426.2 726.853,1435.91 731.917,1436.33 736.982,1426.47 742.047,1436.5 747.111,1436.4 752.176,1436.86 757.241,1428.14 762.305,1437.38 \n",
       "  767.37,1437.4 772.435,1428.8 777.499,1437.71 782.564,1438.18 787.628,1429.92 792.693,1438.2 797.758,1437.89 802.822,1430.07 807.887,1438.32 812.952,1438.4 \n",
       "  818.016,1430.95 823.081,1438.2 828.146,1438.37 833.21,1438.83 838.275,1431.78 843.34,1438.82 848.404,1438.83 853.469,1432.47 858.534,1439.31 863.598,1438.87 \n",
       "  868.663,1433.01 873.727,1439.14 878.792,1439.22 883.857,1432.73 888.921,1439.47 893.986,1439.59 899.051,1439.47 904.115,1433.1 909.18,1439.44 914.245,1439.46 \n",
       "  919.309,1433.77 924.374,1439.77 929.439,1439.57 934.503,1434 939.568,1439.54 944.632,1439.54 949.697,1434 954.762,1439.63 959.826,1439.93 964.891,1433.79 \n",
       "  969.956,1439.98 975.02,1439.94 980.085,1439.9 985.15,1433.82 990.214,1440.05 995.279,1439.68 1000.34,1434.19 1005.41,1440.04 1010.47,1439.97 1015.54,1434.61 \n",
       "  1020.6,1440.11 1025.67,1440.26 1030.73,1435.37 1035.8,1440.35 1040.86,1440.56 1045.93,1435.39 1050.99,1440.43 1056.05,1440.65 1061.12,1440.69 1066.18,1435.82 \n",
       "  1071.25,1440.65 1076.31,1440.92 1081.38,1436.59 1086.44,1441.31 1091.51,1440.98 1096.57,1436.85 1101.64,1441.57 1106.7,1441.27 1111.77,1437.24 1116.83,1441.9 \n",
       "  1121.9,1441.67 1126.96,1441.8 1132.02,1438.05 1137.09,1442.02 1142.15,1442.05 1147.22,1438.86 1152.28,1442.14 1157.35,1442.38 1162.41,1439.24 1167.48,1442.61 \n",
       "  1172.54,1442.83 1177.61,1439.56 1182.67,1442.75 1187.74,1442.69 1192.8,1440.15 1197.86,1442.99 1202.93,1443.33 1207.99,1443.18 1213.06,1440.64 1218.12,1443.32 \n",
       "  1223.19,1443.46 1228.25,1441.1 1233.32,1443.64 1238.38,1443.69 1243.45,1441.58 1248.51,1443.74 1253.58,1443.57 1258.64,1441.79 1263.71,1443.87 1268.77,1443.8 \n",
       "  1273.83,1444.07 1278.9,1442.44 1283.96,1443.96 1289.03,1444 1294.09,1442.37 1299.16,1444.34 1304.22,1444.24 1309.29,1442.87 1314.35,1444.37 1319.42,1444.36 \n",
       "  1324.48,1443.04 1329.55,1444.45 1334.61,1444.26 1339.67,1443.16 1344.74,1444.4 1349.8,1444.51 1354.87,1444.51 1359.93,1443.18 1365,1444.46 1370.06,1444.62 \n",
       "  1375.13,1443.71 1380.19,1444.51 1385.26,1444.7 1390.32,1443.89 1395.39,1444.6 1400.45,1444.8 1405.52,1443.8 1410.58,1444.79 1415.64,1444.78 1420.71,1444.74 \n",
       "  1425.77,1443.99 1430.84,1444.8 1435.9,1444.93 1440.97,1444.12 1446.03,1444.86 1451.1,1445.02 1456.16,1444.35 1461.23,1444.97 1466.29,1445.02 1471.36,1444.44 \n",
       "  1476.42,1445.08 1481.48,1445.13 1486.55,1444.57 1491.61,1445.19 1496.68,1445.12 1501.74,1445.2 1506.81,1444.73 1511.87,1445.31 1516.94,1445.23 1522,1444.8 \n",
       "  1527.07,1445.28 1532.13,1445.24 1537.2,1444.94 1542.26,1445.33 1547.33,1445.3 1552.39,1444.86 1557.45,1445.36 1562.52,1445.28 1567.58,1444.94 1572.65,1445.41 \n",
       "  1577.71,1445.43 1582.78,1445.44 1587.84,1445.25 1592.91,1445.47 1597.97,1445.43 1603.04,1445.26 1608.1,1445.54 1613.17,1445.53 1618.23,1445.23 1623.29,1445.48 \n",
       "  1628.36,1445.54 1633.42,1445.35 1638.49,1445.54 1643.55,1445.6 1648.62,1445.55 1653.68,1445.44 1658.75,1445.62 1663.81,1445.59 1668.88,1445.49 1673.94,1445.61 \n",
       "  1679.01,1445.61 1684.07,1445.47 1689.14,1445.64 1694.2,1445.63 1699.26,1445.6 1704.33,1445.63 1709.39,1445.67 1714.46,1445.63 1719.52,1445.65 1724.59,1445.65 \n",
       "  1729.65,1445.69 1734.72,1445.65 1739.78,1445.68 1744.85,1445.64 1749.91,1445.64 1754.98,1445.69 1760.04,1445.69 1765.11,1445.64 1770.17,1445.67 1775.23,1445.69 \n",
       "  1780.3,1445.64 1785.36,1445.68 1790.43,1445.66 1795.49,1445.69 1800.56,1445.7 1805.62,1445.68 1810.69,1445.68 1815.75,1445.68 1820.82,1445.71 1825.88,1445.71 \n",
       "  1830.95,1445.71 1836.01,1445.7 1841.07,1445.7 1846.14,1445.7 1851.2,1445.71 1856.27,1445.71 1861.33,1445.69 1866.4,1445.72 1871.46,1445.72 1876.53,1445.7 \n",
       "  1881.59,1445.71 1886.66,1445.71 1891.72,1445.7 1896.79,1445.72 1901.85,1445.71 1906.92,1445.72 1911.98,1445.71 1917.04,1445.72 1922.11,1445.72 1927.17,1445.71 \n",
       "  1932.24,1445.71 1937.3,1445.72 1942.37,1445.72 1947.43,1445.7 1952.5,1445.71 1957.56,1445.72 1962.63,1445.72 1967.69,1445.71 1972.76,1445.72 1977.82,1445.71 \n",
       "  1982.88,1445.72 1987.95,1445.72 1993.01,1445.72 1998.08,1445.72 2003.14,1445.72 2008.21,1445.71 2013.27,1445.72 2018.34,1445.72 2023.4,1445.71 2028.47,1445.72 \n",
       "  2033.53,1445.72 2038.6,1445.72 2043.66,1445.72 2048.73,1445.71 2053.79,1445.72 2058.85,1445.71 2063.92,1445.72 2068.98,1445.72 2074.05,1445.72 2079.11,1445.72 \n",
       "  2084.18,1445.72 2089.24,1445.72 2094.31,1445.72 2099.37,1445.72 2104.44,1445.72 2109.5,1445.72 2114.57,1445.72 2119.63,1445.72 2124.69,1445.72 2129.76,1445.72 \n",
       "  2134.82,1445.72 2139.89,1445.72 2144.95,1445.72 2150.02,1445.72 2155.08,1445.72 2160.15,1445.72 2165.21,1445.72 2170.28,1445.72 2175.34,1445.72 2180.41,1445.72 \n",
       "  2185.47,1445.72 2190.54,1445.71 2195.6,1445.72 2200.66,1445.72 2205.73,1445.72 2210.79,1445.72 2215.86,1445.72 2220.92,1445.72 2225.99,1445.72 2231.05,1445.72 \n",
       "  2236.12,1445.72 2241.18,1445.72 2246.25,1445.72 2251.31,1445.72 2256.38,1445.72 2261.44,1445.72 2266.5,1445.72 2271.57,1445.72 2276.63,1445.72 2281.7,1445.72 \n",
       "  2286.76,1445.71 2291.83,1445.72 \n",
       "  \"/>\n",
       "<polyline clip-path=\"url(#clip2702)\" style=\"stroke:#e26f46; stroke-width:4; stroke-opacity:1; fill:none\" points=\"\n",
       "  387.521,1445.59 392.586,1444.67 397.651,1420.77 402.715,1394.78 407.78,1340.38 412.845,975.582 417.909,1037.34 422.974,930.154 428.039,130.497 433.103,679.162 \n",
       "  438.168,687.132 443.233,87.9763 448.297,908.597 453.362,983.283 458.426,1046.25 463.491,782.442 468.556,1165.8 473.62,1189.36 478.685,1002.62 483.75,1247.07 \n",
       "  488.814,1269.56 493.879,1128.86 498.944,1301.81 504.008,1305.14 509.073,1188.15 514.138,1325.74 519.202,1333.19 524.267,1235.07 529.332,1352.54 534.396,1357.34 \n",
       "  539.461,1365.28 544.525,1306.1 549.59,1384.68 554.655,1393.84 559.719,1357.64 564.784,1410.18 569.849,1412.43 574.913,1392.84 579.978,1422.68 585.043,1424.67 \n",
       "  590.107,1407.63 595.172,1429.85 600.237,1430.57 605.301,1430.56 610.366,1418.87 615.431,1433.1 620.495,1432.07 625.56,1421.12 630.624,1434.36 635.689,1433.96 \n",
       "  640.754,1422.39 645.818,1434.12 650.883,1434.21 655.948,1422.22 661.012,1433.27 666.077,1433.64 671.142,1422.62 676.206,1433.59 681.271,1434.38 686.336,1433.93 \n",
       "  691.4,1421.83 696.465,1434.5 701.529,1434.77 706.594,1424.03 711.659,1434.29 716.723,1436.35 721.788,1424.45 726.853,1435.61 731.917,1435.76 736.982,1425.59 \n",
       "  742.047,1436.64 747.111,1436.26 752.176,1436.3 757.241,1428.7 762.305,1437.61 767.37,1437.74 772.435,1430.27 777.499,1438.55 782.564,1438.66 787.628,1431.48 \n",
       "  792.693,1439.02 797.758,1438.47 802.822,1431.17 807.887,1439.27 812.952,1438.77 818.016,1431.15 823.081,1438.59 828.146,1438.18 833.21,1439.2 838.275,1432.39 \n",
       "  843.34,1439.36 848.404,1439.79 853.469,1432.72 858.534,1439.63 863.598,1439.34 868.663,1433.89 873.727,1439.95 878.792,1439.36 883.857,1434.55 888.921,1440.27 \n",
       "  893.986,1440.75 899.051,1440.19 904.115,1434.81 909.18,1439.89 914.245,1439.74 919.309,1435.44 924.374,1440.31 929.439,1439.98 934.503,1435.45 939.568,1440.2 \n",
       "  944.632,1440.32 949.697,1435.12 954.762,1440.48 959.826,1439.68 964.891,1435.2 969.956,1440.54 975.02,1439.8 980.085,1439.77 985.15,1433.1 990.214,1439.57 \n",
       "  995.279,1438.86 1000.34,1432.02 1005.41,1439.05 1010.47,1438.39 1015.54,1431.97 1020.6,1438.14 1025.67,1439.12 1030.73,1431.89 1035.8,1437.81 1040.86,1438.01 \n",
       "  1045.93,1431.89 1050.99,1438.12 1056.05,1437.98 1061.12,1438.3 1066.18,1431.11 1071.25,1438.08 1076.31,1439.44 1081.38,1433.77 1086.44,1439.59 1091.51,1439.44 \n",
       "  1096.57,1435.49 1101.64,1440.9 1106.7,1440.76 1111.77,1435.84 1116.83,1441.78 1121.9,1441.82 1126.96,1442.24 1132.02,1439.07 1137.09,1442.59 1142.15,1442.8 \n",
       "  1147.22,1440.3 1152.28,1443.08 1157.35,1443.11 1162.41,1440.91 1167.48,1443.94 1172.54,1443.84 1177.61,1441.8 1182.67,1443.92 1187.74,1443.75 1192.8,1442.07 \n",
       "  1197.86,1444.31 1202.93,1444.47 1207.99,1444.22 1213.06,1442.71 1218.12,1444.55 1223.19,1444.43 1228.25,1443.04 1233.32,1444.3 1238.38,1444.39 1243.45,1443.04 \n",
       "  1248.51,1444.46 1253.58,1444.47 1258.64,1442.97 1263.71,1444.05 1268.77,1444.36 1273.83,1444.42 1278.9,1442.68 1283.96,1443.9 1289.03,1444.07 1294.09,1442.17 \n",
       "  1299.16,1444.37 1304.22,1444.26 1309.29,1443.15 1314.35,1444.36 1319.42,1444.15 1324.48,1442.74 1329.55,1444.28 1334.61,1444.06 1339.67,1442.86 1344.74,1444.13 \n",
       "  1349.8,1444.28 1354.87,1444.25 1359.93,1442.66 1365,1444.45 1370.06,1444.56 1375.13,1443.18 1380.19,1444.33 1385.26,1444.37 1390.32,1443.54 1395.39,1444.47 \n",
       "  1400.45,1444.72 1405.52,1443.44 1410.58,1444.56 1415.64,1444.61 1420.71,1444.53 1425.77,1443.8 1430.84,1444.72 1435.9,1445.12 1440.97,1444.36 1446.03,1444.83 \n",
       "  1451.1,1444.97 1456.16,1444.38 1461.23,1444.97 1466.29,1445.03 1471.36,1444.71 1476.42,1445.12 1481.48,1445.19 1486.55,1444.62 1491.61,1445.33 1496.68,1445.19 \n",
       "  1501.74,1445.26 1506.81,1444.99 1511.87,1445.42 1516.94,1445.49 1522,1445.13 1527.07,1445.43 1532.13,1445.43 1537.2,1445.2 1542.26,1445.58 1547.33,1445.5 \n",
       "  1552.39,1445.47 1557.45,1445.52 1562.52,1445.67 1567.58,1445.52 1572.65,1445.68 1577.71,1445.71 1582.78,1445.63 1587.84,1445.61 1592.91,1445.68 1597.97,1445.65 \n",
       "  1603.04,1445.71 1608.1,1445.7 1613.17,1445.72 1618.23,1445.71 1623.29,1445.71 1628.36,1445.72 1633.42,1445.7 1638.49,1445.71 1643.55,1445.72 1648.62,1445.72 \n",
       "  1653.68,1445.72 1658.75,1445.71 1663.81,1445.72 1668.88,1445.71 1673.94,1445.72 1679.01,1445.72 1684.07,1445.69 1689.14,1445.72 1694.2,1445.69 1699.26,1445.72 \n",
       "  1704.33,1445.72 1709.39,1445.72 1714.46,1445.71 1719.52,1445.7 1724.59,1445.72 1729.65,1445.71 1734.72,1445.72 1739.78,1445.72 1744.85,1445.69 1749.91,1445.72 \n",
       "  1754.98,1445.7 1760.04,1445.72 1765.11,1445.72 1770.17,1445.71 1775.23,1445.72 1780.3,1445.72 1785.36,1445.72 1790.43,1445.71 1795.49,1445.72 1800.56,1445.71 \n",
       "  1805.62,1445.72 1810.69,1445.7 1815.75,1445.71 1820.82,1445.71 1825.88,1445.72 1830.95,1445.72 1836.01,1445.72 1841.07,1445.72 1846.14,1445.71 1851.2,1445.72 \n",
       "  \n",
       "  \"/>\n",
       "<polyline clip-path=\"url(#clip2702)\" style=\"stroke:#3da44d; stroke-width:4; stroke-opacity:1; fill:none\" points=\"\n",
       "  397.651,1444.48 402.715,1430.83 407.78,1373.35 412.845,1276.28 417.909,1083.74 422.974,867.579 428.039,688.025 433.103,546.411 438.168,268.078 443.233,317.422 \n",
       "  448.297,631.685 453.362,829.731 458.426,948.424 463.491,994.1 468.556,1041.88 473.62,1087.51 478.685,1136.91 483.75,1170.25 488.814,1208.07 493.879,1233.59 \n",
       "  498.944,1252.32 504.008,1266.22 509.073,1274.46 514.138,1275.35 519.202,1283.53 524.267,1295.16 529.332,1305.6 534.396,1314.81 539.461,1325.82 544.525,1341.62 \n",
       "  549.59,1355.97 554.655,1372.49 559.719,1388.62 564.784,1397.5 569.849,1404.72 574.913,1411.63 579.978,1416.69 585.043,1420.02 590.107,1423.47 595.172,1424.91 \n",
       "  600.237,1425.23 605.301,1426.5 610.366,1427.72 615.431,1428.46 620.495,1428.77 625.56,1429.78 630.624,1430.49 635.689,1431.17 640.754,1430.08 645.818,1430.81 \n",
       "  650.883,1431.06 655.948,1430.05 661.012,1428.76 666.077,1429.16 671.142,1429.15 676.206,1428.71 681.271,1428.96 686.336,1430.04 691.4,1430.95 696.465,1430.14 \n",
       "  701.529,1430.96 706.594,1430.93 711.659,1431.83 716.723,1431.58 721.788,1431.02 726.853,1431.32 731.917,1430.51 736.982,1431.11 742.047,1432.62 747.111,1432.79 \n",
       "  752.176,1433.65 757.241,1433.85 762.305,1433.99 767.37,1435.25 772.435,1436.03 777.499,1436.31 782.564,1437.07 787.628,1437.14 792.693,1436.85 797.758,1436.47 \n",
       "  802.822,1436.95 807.887,1436.52 812.952,1436.71 818.016,1436.91 823.081,1436.24 828.146,1436.6 833.21,1436.99 838.275,1436.77 843.34,1436.85 848.404,1436.93 \n",
       "  853.469,1436.83 858.534,1437.2 863.598,1437.4 868.663,1438.28 873.727,1438.32 878.792,1439.05 883.857,1438.9 888.921,1438.64 893.986,1438.35 899.051,1438.79 \n",
       "  904.115,1438.23 909.18,1438.13 914.245,1438.34 919.309,1438.81 924.374,1438.64 929.439,1439.01 934.503,1438.71 939.568,1438.82 944.632,1439.12 949.697,1439.11 \n",
       "  954.762,1439.12 959.826,1438.77 964.891,1438.81 969.956,1438.6 975.02,1438.45 980.085,1438.34 985.15,1438.62 990.214,1438.08 995.279,1437.97 1000.34,1437.39 \n",
       "  1005.41,1436.9 1010.47,1436.82 1015.54,1436.75 1020.6,1436.22 1025.67,1436.56 1030.73,1435.6 1035.8,1435.4 1040.86,1435.03 1045.93,1434.49 1050.99,1434.47 \n",
       "  1056.05,1434.85 1061.12,1434.5 1066.18,1434.79 1071.25,1434.66 1076.31,1435.32 1081.38,1436.13 1086.44,1437.18 1091.51,1437.57 1096.57,1438.26 1101.64,1439.02 \n",
       "  1106.7,1440.32 1111.77,1440.8 1116.83,1441.25 1121.9,1441.33 1126.96,1441.26 1132.02,1441.6 1137.09,1441.97 1142.15,1442.24 1147.22,1442.26 1152.28,1442.6 \n",
       "  1157.35,1442.27 1162.41,1442.46 1167.48,1442.79 1172.54,1442.96 1177.61,1443.57 1182.67,1443.71 1187.74,1443.87 1192.8,1444.31 1197.86,1444.34 1202.93,1444.4 \n",
       "  1207.99,1444.22 1213.06,1444.4 1218.12,1444.12 1223.19,1444.24 1228.25,1443.98 1233.32,1444.12 1238.38,1443.96 1243.45,1444.03 1248.51,1444.13 1253.58,1443.97 \n",
       "  1258.64,1444.12 1263.71,1443.81 1268.77,1443.87 1273.83,1443.72 1278.9,1443.56 1283.96,1443.27 1289.03,1443.38 1294.09,1443.52 1299.16,1443.27 1304.22,1443.66 \n",
       "  1309.29,1443.63 1314.35,1443.65 1319.42,1443.8 1324.48,1443.85 1329.55,1443.85 1334.61,1443.77 1339.67,1443.69 1344.74,1443.83 1349.8,1443.68 1354.87,1443.82 \n",
       "  1359.93,1444.05 1365,1443.79 1370.06,1443.85 1375.13,1443.92 1380.19,1444.11 1385.26,1444.14 1390.32,1444.02 1395.39,1443.83 1400.45,1444.1 1405.52,1444.26 \n",
       "  1410.58,1444.21 1415.64,1444.28 1420.71,1444.36 1425.77,1444.41 1430.84,1444.44 1435.9,1444.44 1440.97,1444.77 1446.03,1444.65 1451.1,1444.78 1456.16,1444.87 \n",
       "  1461.23,1444.94 1466.29,1444.92 1471.36,1444.94 1476.42,1444.9 1481.48,1444.94 1486.55,1444.96 1491.61,1444.97 1496.68,1445.08 1501.74,1445.11 1506.81,1445.13 \n",
       "  1511.87,1445.34 1516.94,1445.49 1522,1445.52 1527.07,1445.54 1532.13,1445.58 1537.2,1445.55 1542.26,1445.63 1547.33,1445.61 1552.39,1445.65 1557.45,1445.72 \n",
       "  1562.52,1445.71 1567.58,1445.69 1572.65,1445.71 1577.71,1445.71 1582.78,1445.71 1587.84,1445.72 1592.91,1445.71 1597.97,1445.7 1603.04,1445.71 1608.1,1445.71 \n",
       "  1613.17,1445.71 1618.23,1445.7 1623.29,1445.71 1628.36,1445.71 1633.42,1445.71 1638.49,1445.72 \n",
       "  \"/>\n",
       "<path clip-path=\"url(#clip2700)\" d=\"\n",
       "M1862.84 372.684 L2280.76 372.684 L2280.76 130.764 L1862.84 130.764  Z\n",
       "  \" fill=\"#ffffff\" fill-rule=\"evenodd\" fill-opacity=\"1\"/>\n",
       "<polyline clip-path=\"url(#clip2700)\" style=\"stroke:#000000; stroke-width:4; stroke-opacity:1; fill:none\" points=\"\n",
       "  1862.84,372.684 2280.76,372.684 2280.76,130.764 1862.84,130.764 1862.84,372.684 \n",
       "  \"/>\n",
       "<polyline clip-path=\"url(#clip2700)\" style=\"stroke:#009af9; stroke-width:4; stroke-opacity:1; fill:none\" points=\"\n",
       "  1886.84,191.244 2030.84,191.244 \n",
       "  \"/>\n",
       "<path clip-path=\"url(#clip2700)\" d=\"M 0 0 M2070.03 186.58 Q2069.31 186.163 2068.45 185.978 Q2067.62 185.77 2066.6 185.77 Q2062.99 185.77 2061.04 188.131 Q2059.12 190.469 2059.12 194.867 L2059.12 208.524 L2054.84 208.524 L2054.84 182.598 L2059.12 182.598 L2059.12 186.626 Q2060.47 184.265 2062.62 183.131 Q2064.77 181.973 2067.85 181.973 Q2068.29 181.973 2068.82 182.043 Q2069.35 182.089 2070 182.205 L2070.03 186.58 Z\" fill=\"#000000\" fill-rule=\"evenodd\" fill-opacity=\"1\" /><path clip-path=\"url(#clip2700)\" d=\"M 0 0 M2086.28 195.492 Q2081.11 195.492 2079.12 196.672 Q2077.13 197.853 2077.13 200.7 Q2077.13 202.969 2078.61 204.311 Q2080.12 205.631 2082.69 205.631 Q2086.23 205.631 2088.36 203.131 Q2090.51 200.607 2090.51 196.441 L2090.51 195.492 L2086.28 195.492 M2094.77 193.733 L2094.77 208.524 L2090.51 208.524 L2090.51 204.589 Q2089.05 206.95 2086.88 208.084 Q2084.7 209.195 2081.55 209.195 Q2077.57 209.195 2075.21 206.973 Q2072.87 204.728 2072.87 200.978 Q2072.87 196.603 2075.79 194.381 Q2078.73 192.158 2084.54 192.158 L2090.51 192.158 L2090.51 191.742 Q2090.51 188.802 2088.57 187.205 Q2086.65 185.584 2083.15 185.584 Q2080.93 185.584 2078.82 186.117 Q2076.72 186.649 2074.77 187.714 L2074.77 183.779 Q2077.11 182.876 2079.31 182.436 Q2081.51 181.973 2083.59 181.973 Q2089.22 181.973 2091.99 184.89 Q2094.77 187.807 2094.77 193.733 Z\" fill=\"#000000\" fill-rule=\"evenodd\" fill-opacity=\"1\" /><path clip-path=\"url(#clip2700)\" d=\"M 0 0 M2096.76 182.598 L2101.02 182.598 L2106.34 202.83 L2111.65 182.598 L2116.67 182.598 L2121.99 202.83 L2127.29 182.598 L2131.55 182.598 L2124.77 208.524 L2119.75 208.524 L2114.17 187.274 L2108.57 208.524 L2103.54 208.524 L2096.76 182.598 Z\" fill=\"#000000\" fill-rule=\"evenodd\" fill-opacity=\"1\" /><polyline clip-path=\"url(#clip2700)\" style=\"stroke:#e26f46; stroke-width:4; stroke-opacity:1; fill:none\" points=\"\n",
       "  1886.84,251.724 2030.84,251.724 \n",
       "  \"/>\n",
       "<path clip-path=\"url(#clip2700)\" d=\"M 0 0 M2075.19 248.055 Q2076.78 245.185 2079.01 243.819 Q2081.23 242.453 2084.24 242.453 Q2088.29 242.453 2090.49 245.301 Q2092.69 248.125 2092.69 253.356 L2092.69 269.004 L2088.4 269.004 L2088.4 253.495 Q2088.4 249.768 2087.09 247.963 Q2085.77 246.157 2083.06 246.157 Q2079.75 246.157 2077.83 248.356 Q2075.9 250.555 2075.9 254.351 L2075.9 269.004 L2071.62 269.004 L2071.62 253.495 Q2071.62 249.745 2070.3 247.963 Q2068.98 246.157 2066.23 246.157 Q2062.97 246.157 2061.04 248.379 Q2059.12 250.578 2059.12 254.351 L2059.12 269.004 L2054.84 269.004 L2054.84 243.078 L2059.12 243.078 L2059.12 247.106 Q2060.58 244.722 2062.62 243.588 Q2064.65 242.453 2067.46 242.453 Q2070.28 242.453 2072.25 243.888 Q2074.24 245.324 2075.19 248.055 Z\" fill=\"#000000\" fill-rule=\"evenodd\" fill-opacity=\"1\" /><path clip-path=\"url(#clip2700)\" d=\"M 0 0 M2119.33 254.976 L2119.33 257.06 L2099.75 257.06 Q2100.03 261.458 2102.39 263.773 Q2104.77 266.064 2109.01 266.064 Q2111.46 266.064 2113.75 265.462 Q2116.07 264.861 2118.34 263.657 L2118.34 267.685 Q2116.04 268.657 2113.64 269.166 Q2111.23 269.675 2108.75 269.675 Q2102.55 269.675 2098.91 266.064 Q2095.3 262.453 2095.3 256.296 Q2095.3 249.93 2098.73 246.203 Q2102.18 242.453 2108.01 242.453 Q2113.24 242.453 2116.28 245.833 Q2119.33 249.189 2119.33 254.976 M2115.07 253.726 Q2115.03 250.231 2113.1 248.148 Q2111.21 246.064 2108.06 246.064 Q2104.49 246.064 2102.34 248.078 Q2100.21 250.092 2099.89 253.75 L2115.07 253.726 Z\" fill=\"#000000\" fill-rule=\"evenodd\" fill-opacity=\"1\" /><path clip-path=\"url(#clip2700)\" d=\"M 0 0 M2140.86 247.013 L2140.86 232.986 L2145.12 232.986 L2145.12 269.004 L2140.86 269.004 L2140.86 265.115 Q2139.52 267.43 2137.46 268.564 Q2135.42 269.675 2132.55 269.675 Q2127.85 269.675 2124.89 265.925 Q2121.95 262.175 2121.95 256.064 Q2121.95 249.953 2124.89 246.203 Q2127.85 242.453 2132.55 242.453 Q2135.42 242.453 2137.46 243.588 Q2139.52 244.699 2140.86 247.013 M2126.34 256.064 Q2126.34 260.763 2128.27 263.449 Q2130.21 266.111 2133.59 266.111 Q2136.97 266.111 2138.91 263.449 Q2140.86 260.763 2140.86 256.064 Q2140.86 251.365 2138.91 248.703 Q2136.97 246.018 2133.59 246.018 Q2130.21 246.018 2128.27 248.703 Q2126.34 251.365 2126.34 256.064 Z\" fill=\"#000000\" fill-rule=\"evenodd\" fill-opacity=\"1\" /><path clip-path=\"url(#clip2700)\" d=\"M 0 0 M2149.59 243.078 L2153.84 243.078 L2153.84 269.004 L2149.59 269.004 L2149.59 243.078 M2149.59 232.986 L2153.84 232.986 L2153.84 238.379 L2149.59 238.379 L2149.59 232.986 Z\" fill=\"#000000\" fill-rule=\"evenodd\" fill-opacity=\"1\" /><path clip-path=\"url(#clip2700)\" d=\"M 0 0 M2170.09 255.972 Q2164.93 255.972 2162.94 257.152 Q2160.95 258.333 2160.95 261.18 Q2160.95 263.449 2162.43 264.791 Q2163.94 266.111 2166.51 266.111 Q2170.05 266.111 2172.18 263.611 Q2174.33 261.087 2174.33 256.921 L2174.33 255.972 L2170.09 255.972 M2178.59 254.213 L2178.59 269.004 L2174.33 269.004 L2174.33 265.069 Q2172.87 267.43 2170.7 268.564 Q2168.52 269.675 2165.37 269.675 Q2161.39 269.675 2159.03 267.453 Q2156.69 265.208 2156.69 261.458 Q2156.69 257.083 2159.61 254.861 Q2162.55 252.638 2168.36 252.638 L2174.33 252.638 L2174.33 252.222 Q2174.33 249.282 2172.39 247.685 Q2170.46 246.064 2166.97 246.064 Q2164.75 246.064 2162.64 246.597 Q2160.53 247.129 2158.59 248.194 L2158.59 244.259 Q2160.93 243.356 2163.13 242.916 Q2165.33 242.453 2167.41 242.453 Q2173.03 242.453 2175.81 245.37 Q2178.59 248.287 2178.59 254.213 Z\" fill=\"#000000\" fill-rule=\"evenodd\" fill-opacity=\"1\" /><path clip-path=\"url(#clip2700)\" d=\"M 0 0 M2204.61 253.356 L2204.61 269.004 L2200.35 269.004 L2200.35 253.495 Q2200.35 249.814 2198.91 247.986 Q2197.48 246.157 2194.61 246.157 Q2191.16 246.157 2189.17 248.356 Q2187.18 250.555 2187.18 254.351 L2187.18 269.004 L2182.9 269.004 L2182.9 243.078 L2187.18 243.078 L2187.18 247.106 Q2188.71 244.768 2190.77 243.611 Q2192.85 242.453 2195.56 242.453 Q2200.02 242.453 2202.32 245.231 Q2204.61 247.986 2204.61 253.356 Z\" fill=\"#000000\" fill-rule=\"evenodd\" fill-opacity=\"1\" /><polyline clip-path=\"url(#clip2700)\" style=\"stroke:#3da44d; stroke-width:4; stroke-opacity:1; fill:none\" points=\"\n",
       "  1886.84,312.204 2030.84,312.204 \n",
       "  \"/>\n",
       "<path clip-path=\"url(#clip2700)\" d=\"M 0 0 M2073.75 316.22 Q2073.75 311.591 2071.83 309.044 Q2069.93 306.498 2066.48 306.498 Q2063.06 306.498 2061.14 309.044 Q2059.24 311.591 2059.24 316.22 Q2059.24 320.827 2061.14 323.373 Q2063.06 325.919 2066.48 325.919 Q2069.93 325.919 2071.83 323.373 Q2073.75 320.827 2073.75 316.22 M2078.01 326.267 Q2078.01 332.887 2075.07 336.104 Q2072.13 339.345 2066.07 339.345 Q2063.82 339.345 2061.83 338.998 Q2059.84 338.674 2057.97 337.979 L2057.97 333.836 Q2059.84 334.854 2061.67 335.341 Q2063.5 335.827 2065.4 335.827 Q2069.59 335.827 2071.67 333.628 Q2073.75 331.452 2073.75 327.03 L2073.75 324.924 Q2072.43 327.216 2070.37 328.35 Q2068.31 329.484 2065.44 329.484 Q2060.67 329.484 2057.76 325.85 Q2054.84 322.216 2054.84 316.22 Q2054.84 310.202 2057.76 306.568 Q2060.67 302.933 2065.44 302.933 Q2068.31 302.933 2070.37 304.068 Q2072.43 305.202 2073.75 307.493 L2073.75 303.558 L2078.01 303.558 L2078.01 326.267 Z\" fill=\"#000000\" fill-rule=\"evenodd\" fill-opacity=\"1\" /><path clip-path=\"url(#clip2700)\" d=\"M 0 0 M2094.26 316.452 Q2089.1 316.452 2087.11 317.632 Q2085.12 318.813 2085.12 321.66 Q2085.12 323.929 2086.6 325.271 Q2088.1 326.591 2090.67 326.591 Q2094.21 326.591 2096.34 324.091 Q2098.5 321.567 2098.5 317.401 L2098.5 316.452 L2094.26 316.452 M2102.76 314.693 L2102.76 329.484 L2098.5 329.484 L2098.5 325.549 Q2097.04 327.91 2094.86 329.044 Q2092.69 330.155 2089.54 330.155 Q2085.56 330.155 2083.2 327.933 Q2080.86 325.688 2080.86 321.938 Q2080.86 317.563 2083.78 315.341 Q2086.72 313.118 2092.53 313.118 L2098.5 313.118 L2098.5 312.702 Q2098.5 309.762 2096.55 308.165 Q2094.63 306.544 2091.14 306.544 Q2088.91 306.544 2086.81 307.077 Q2084.7 307.609 2082.76 308.674 L2082.76 304.739 Q2085.09 303.836 2087.29 303.396 Q2089.49 302.933 2091.58 302.933 Q2097.2 302.933 2099.98 305.85 Q2102.76 308.767 2102.76 314.693 Z\" fill=\"#000000\" fill-rule=\"evenodd\" fill-opacity=\"1\" /><path clip-path=\"url(#clip2700)\" d=\"M 0 0 M2106.78 319.253 L2106.78 303.558 L2111.04 303.558 L2111.04 319.091 Q2111.04 322.771 2112.48 324.623 Q2113.91 326.452 2116.78 326.452 Q2120.23 326.452 2122.22 324.253 Q2124.24 322.054 2124.24 318.257 L2124.24 303.558 L2128.5 303.558 L2128.5 329.484 L2124.24 329.484 L2124.24 325.503 Q2122.69 327.864 2120.63 329.021 Q2118.59 330.155 2115.88 330.155 Q2111.41 330.155 2109.1 327.378 Q2106.78 324.6 2106.78 319.253 M2117.5 302.933 L2117.5 302.933 Z\" fill=\"#000000\" fill-rule=\"evenodd\" fill-opacity=\"1\" /><path clip-path=\"url(#clip2700)\" d=\"M 0 0 M2149.49 304.322 L2149.49 308.35 Q2147.69 307.424 2145.74 306.961 Q2143.8 306.498 2141.71 306.498 Q2138.54 306.498 2136.95 307.47 Q2135.37 308.443 2135.37 310.387 Q2135.37 311.868 2136.51 312.725 Q2137.64 313.558 2141.07 314.322 L2142.52 314.646 Q2147.06 315.618 2148.96 317.401 Q2150.88 319.16 2150.88 322.331 Q2150.88 325.942 2148.01 328.049 Q2145.16 330.155 2140.16 330.155 Q2138.08 330.155 2135.81 329.739 Q2133.57 329.345 2131.07 328.535 L2131.07 324.137 Q2133.43 325.364 2135.72 325.989 Q2138.01 326.591 2140.26 326.591 Q2143.27 326.591 2144.89 325.572 Q2146.51 324.53 2146.51 322.655 Q2146.51 320.919 2145.33 319.993 Q2144.17 319.067 2140.21 318.211 L2138.73 317.864 Q2134.77 317.03 2133.01 315.318 Q2131.25 313.581 2131.25 310.572 Q2131.25 306.915 2133.84 304.924 Q2136.44 302.933 2141.21 302.933 Q2143.57 302.933 2145.65 303.281 Q2147.73 303.628 2149.49 304.322 Z\" fill=\"#000000\" fill-rule=\"evenodd\" fill-opacity=\"1\" /><path clip-path=\"url(#clip2700)\" d=\"M 0 0 M2171.88 304.322 L2171.88 308.35 Q2170.07 307.424 2168.13 306.961 Q2166.18 306.498 2164.1 306.498 Q2160.93 306.498 2159.33 307.47 Q2157.76 308.443 2157.76 310.387 Q2157.76 311.868 2158.89 312.725 Q2160.02 313.558 2163.45 314.322 L2164.91 314.646 Q2169.45 315.618 2171.34 317.401 Q2173.27 319.16 2173.27 322.331 Q2173.27 325.942 2170.4 328.049 Q2167.55 330.155 2162.55 330.155 Q2160.46 330.155 2158.2 329.739 Q2155.95 329.345 2153.45 328.535 L2153.45 324.137 Q2155.81 325.364 2158.1 325.989 Q2160.4 326.591 2162.64 326.591 Q2165.65 326.591 2167.27 325.572 Q2168.89 324.53 2168.89 322.655 Q2168.89 320.919 2167.71 319.993 Q2166.55 319.067 2162.59 318.211 L2161.11 317.864 Q2157.15 317.03 2155.4 315.318 Q2153.64 313.581 2153.64 310.572 Q2153.64 306.915 2156.23 304.924 Q2158.82 302.933 2163.59 302.933 Q2165.95 302.933 2168.03 303.281 Q2170.12 303.628 2171.88 304.322 Z\" fill=\"#000000\" fill-rule=\"evenodd\" fill-opacity=\"1\" /><path clip-path=\"url(#clip2700)\" d=\"M 0 0 M2177.73 303.558 L2181.99 303.558 L2181.99 329.484 L2177.73 329.484 L2177.73 303.558 M2177.73 293.466 L2181.99 293.466 L2181.99 298.859 L2177.73 298.859 L2177.73 293.466 Z\" fill=\"#000000\" fill-rule=\"evenodd\" fill-opacity=\"1\" /><path clip-path=\"url(#clip2700)\" d=\"M 0 0 M2198.24 316.452 Q2193.08 316.452 2191.09 317.632 Q2189.1 318.813 2189.1 321.66 Q2189.1 323.929 2190.58 325.271 Q2192.08 326.591 2194.65 326.591 Q2198.2 326.591 2200.33 324.091 Q2202.48 321.567 2202.48 317.401 L2202.48 316.452 L2198.24 316.452 M2206.74 314.693 L2206.74 329.484 L2202.48 329.484 L2202.48 325.549 Q2201.02 327.91 2198.84 329.044 Q2196.67 330.155 2193.52 330.155 Q2189.54 330.155 2187.18 327.933 Q2184.84 325.688 2184.84 321.938 Q2184.84 317.563 2187.76 315.341 Q2190.7 313.118 2196.51 313.118 L2202.48 313.118 L2202.48 312.702 Q2202.48 309.762 2200.53 308.165 Q2198.61 306.544 2195.12 306.544 Q2192.9 306.544 2190.79 307.077 Q2188.68 307.609 2186.74 308.674 L2186.74 304.739 Q2189.08 303.836 2191.27 303.396 Q2193.47 302.933 2195.56 302.933 Q2201.18 302.933 2203.96 305.85 Q2206.74 308.767 2206.74 314.693 Z\" fill=\"#000000\" fill-rule=\"evenodd\" fill-opacity=\"1\" /><path clip-path=\"url(#clip2700)\" d=\"M 0 0 M2232.76 313.836 L2232.76 329.484 L2228.5 329.484 L2228.5 313.975 Q2228.5 310.294 2227.06 308.466 Q2225.63 306.637 2222.76 306.637 Q2219.31 306.637 2217.32 308.836 Q2215.33 311.035 2215.33 314.831 L2215.33 329.484 L2211.04 329.484 L2211.04 303.558 L2215.33 303.558 L2215.33 307.586 Q2216.85 305.248 2218.91 304.091 Q2221 302.933 2223.71 302.933 Q2228.17 302.933 2230.46 305.711 Q2232.76 308.466 2232.76 313.836 Z\" fill=\"#000000\" fill-rule=\"evenodd\" fill-opacity=\"1\" /></svg>\n"
      ]
     },
     "execution_count": 75,
     "metadata": {},
     "output_type": "execute_result"
    },
    {
     "name": "stderr",
     "output_type": "stream",
     "text": [
      "GKS: character ignored due to unicode error\n",
      "GKS: character ignored due to unicode error\n",
      "GKS: character ignored due to unicode error\n",
      "GKS: character ignored due to unicode error\n",
      "GKS: character ignored due to unicode error\n",
      "GKS: character ignored due to unicode error\n",
      "GKS: character ignored due to unicode error\n",
      "GKS: character ignored due to unicode error\n",
      "GKS: character ignored due to unicode error\n",
      "GKS: character ignored due to unicode error\n",
      "GKS: character ignored due to unicode error\n",
      "GKS: character ignored due to unicode error\n",
      "GKS: character ignored due to unicode error\n",
      "GKS: character ignored due to unicode error\n",
      "GKS: character ignored due to unicode error\n",
      "GKS: character ignored due to unicode error\n",
      "GKS: character ignored due to unicode error\n",
      "GKS: character ignored due to unicode error\n",
      "GKS: character ignored due to unicode error\n",
      "GKS: character ignored due to unicode error\n",
      "GKS: character ignored due to unicode error\n",
      "GKS: character ignored due to unicode error\n",
      "GKS: character ignored due to unicode error\n",
      "GKS: character ignored due to unicode error\n",
      "GKS: character ignored due to unicode error\n"
     ]
    }
   ],
   "source": [
    "edges, count = imhist(img_15_1[:,:,11]); \n",
    "edges2, count2 = imhist(mapwindow(median!, img_15_1[:,:,0], (5,5)));\n",
    "edges3, count3 = imhist(imfilter(img_15_1[:,:,10], Kernel.gaussian(3)));\n",
    "gr()\n",
    "plot(edges, count[2:end], label=\"raw\");\n",
    "plot!(edges2, count2[2:end], label=\"median\")\n",
    "plot!(edges3, count3[2:end], label=\"gaussian\")"
   ]
  }
 ],
 "metadata": {
  "kernelspec": {
   "display_name": "Julia 1.4.0",
   "language": "julia",
   "name": "julia-1.4"
  },
  "language_info": {
   "file_extension": ".jl",
   "mimetype": "application/julia",
   "name": "julia",
   "version": "1.4.0"
  }
 },
 "nbformat": 4,
 "nbformat_minor": 4
}
